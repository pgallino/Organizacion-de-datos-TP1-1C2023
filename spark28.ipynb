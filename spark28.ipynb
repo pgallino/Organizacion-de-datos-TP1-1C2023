{
  "nbformat": 4,
  "nbformat_minor": 0,
  "metadata": {
    "colab": {
      "provenance": [],
      "authorship_tag": "ABX9TyPIB6T3SxsSitx+GGZahZMA",
      "include_colab_link": true
    },
    "kernelspec": {
      "name": "python3",
      "display_name": "Python 3"
    },
    "language_info": {
      "name": "python"
    }
  },
  "cells": [
    {
      "cell_type": "markdown",
      "metadata": {
        "id": "view-in-github",
        "colab_type": "text"
      },
      "source": [
        "<a href=\"https://colab.research.google.com/github/pgallino/Organizacion-de-datos-TP1-1C2023/blob/main/spark28.ipynb\" target=\"_parent\"><img src=\"https://colab.research.google.com/assets/colab-badge.svg\" alt=\"Open In Colab\"/></a>"
      ]
    },
    {
      "cell_type": "code",
      "execution_count": null,
      "metadata": {
        "id": "E4C1DmhK2d5O",
        "colab": {
          "base_uri": "https://localhost:8080/"
        },
        "outputId": "557ccfc7-3eae-47b1-a42f-3272061c8ef7"
      },
      "outputs": [
        {
          "output_type": "stream",
          "name": "stdout",
          "text": [
            "Mounted at /content/drive\n"
          ]
        }
      ],
      "source": [
        "from google.colab import drive\n",
        "drive.mount('/content/drive')"
      ]
    },
    {
      "cell_type": "code",
      "source": [
        "!pip install pyspark\n",
        "!pip install -U -q PyDrive\n",
        "!apt install openjdk-8-jdk-headless -qq\n",
        "import os\n",
        "os.environ[\"JAVA_HOME\"] = \"/usr/lib/jvm/java-8-openjdk-amd64\""
      ],
      "metadata": {
        "id": "tDHckvcL9aJf",
        "colab": {
          "base_uri": "https://localhost:8080/"
        },
        "outputId": "c8d7e059-84c2-4d5e-a6cd-efb7794b1dbe"
      },
      "execution_count": null,
      "outputs": [
        {
          "output_type": "stream",
          "name": "stdout",
          "text": [
            "Looking in indexes: https://pypi.org/simple, https://us-python.pkg.dev/colab-wheels/public/simple/\n",
            "Collecting pyspark\n",
            "  Downloading pyspark-3.4.0.tar.gz (310.8 MB)\n",
            "\u001b[2K     \u001b[90m━━━━━━━━━━━━━━━━━━━━━━━━━━━━━━━━━━━━━━━\u001b[0m \u001b[32m310.8/310.8 MB\u001b[0m \u001b[31m5.2 MB/s\u001b[0m eta \u001b[36m0:00:00\u001b[0m\n",
            "\u001b[?25h  Preparing metadata (setup.py) ... \u001b[?25l\u001b[?25hdone\n",
            "Requirement already satisfied: py4j==0.10.9.7 in /usr/local/lib/python3.10/dist-packages (from pyspark) (0.10.9.7)\n",
            "Building wheels for collected packages: pyspark\n",
            "  Building wheel for pyspark (setup.py) ... \u001b[?25l\u001b[?25hdone\n",
            "  Created wheel for pyspark: filename=pyspark-3.4.0-py2.py3-none-any.whl size=311317145 sha256=184798dd00d7190c10fc4138cf04c99f747074979131b30f91c0cd392f7809fa\n",
            "  Stored in directory: /root/.cache/pip/wheels/7b/1b/4b/3363a1d04368e7ff0d408e57ff57966fcdf00583774e761327\n",
            "Successfully built pyspark\n",
            "Installing collected packages: pyspark\n",
            "Successfully installed pyspark-3.4.0\n",
            "The following additional packages will be installed:\n",
            "  libxtst6 openjdk-8-jre-headless\n",
            "Suggested packages:\n",
            "  openjdk-8-demo openjdk-8-source libnss-mdns fonts-dejavu-extra\n",
            "  fonts-ipafont-gothic fonts-ipafont-mincho fonts-wqy-microhei\n",
            "  fonts-wqy-zenhei fonts-indic\n",
            "The following NEW packages will be installed:\n",
            "  libxtst6 openjdk-8-jdk-headless openjdk-8-jre-headless\n",
            "0 upgraded, 3 newly installed, 0 to remove and 24 not upgraded.\n",
            "Need to get 36.5 MB of archives.\n",
            "After this operation, 144 MB of additional disk space will be used.\n",
            "Selecting previously unselected package libxtst6:amd64.\n",
            "(Reading database ... 122518 files and directories currently installed.)\n",
            "Preparing to unpack .../libxtst6_2%3a1.2.3-1_amd64.deb ...\n",
            "Unpacking libxtst6:amd64 (2:1.2.3-1) ...\n",
            "Selecting previously unselected package openjdk-8-jre-headless:amd64.\n",
            "Preparing to unpack .../openjdk-8-jre-headless_8u362-ga-0ubuntu1~20.04.1_amd64.deb ...\n",
            "Unpacking openjdk-8-jre-headless:amd64 (8u362-ga-0ubuntu1~20.04.1) ...\n",
            "Selecting previously unselected package openjdk-8-jdk-headless:amd64.\n",
            "Preparing to unpack .../openjdk-8-jdk-headless_8u362-ga-0ubuntu1~20.04.1_amd64.deb ...\n",
            "Unpacking openjdk-8-jdk-headless:amd64 (8u362-ga-0ubuntu1~20.04.1) ...\n",
            "Setting up libxtst6:amd64 (2:1.2.3-1) ...\n",
            "Setting up openjdk-8-jre-headless:amd64 (8u362-ga-0ubuntu1~20.04.1) ...\n",
            "update-alternatives: using /usr/lib/jvm/java-8-openjdk-amd64/jre/bin/orbd to provide /usr/bin/orbd (orbd) in auto mode\n",
            "update-alternatives: using /usr/lib/jvm/java-8-openjdk-amd64/jre/bin/servertool to provide /usr/bin/servertool (servertool) in auto mode\n",
            "update-alternatives: using /usr/lib/jvm/java-8-openjdk-amd64/jre/bin/tnameserv to provide /usr/bin/tnameserv (tnameserv) in auto mode\n",
            "Setting up openjdk-8-jdk-headless:amd64 (8u362-ga-0ubuntu1~20.04.1) ...\n",
            "update-alternatives: using /usr/lib/jvm/java-8-openjdk-amd64/bin/idlj to provide /usr/bin/idlj (idlj) in auto mode\n",
            "update-alternatives: using /usr/lib/jvm/java-8-openjdk-amd64/bin/wsimport to provide /usr/bin/wsimport (wsimport) in auto mode\n",
            "update-alternatives: using /usr/lib/jvm/java-8-openjdk-amd64/bin/jsadebugd to provide /usr/bin/jsadebugd (jsadebugd) in auto mode\n",
            "update-alternatives: using /usr/lib/jvm/java-8-openjdk-amd64/bin/native2ascii to provide /usr/bin/native2ascii (native2ascii) in auto mode\n",
            "update-alternatives: using /usr/lib/jvm/java-8-openjdk-amd64/bin/javah to provide /usr/bin/javah (javah) in auto mode\n",
            "update-alternatives: using /usr/lib/jvm/java-8-openjdk-amd64/bin/hsdb to provide /usr/bin/hsdb (hsdb) in auto mode\n",
            "update-alternatives: using /usr/lib/jvm/java-8-openjdk-amd64/bin/clhsdb to provide /usr/bin/clhsdb (clhsdb) in auto mode\n",
            "update-alternatives: using /usr/lib/jvm/java-8-openjdk-amd64/bin/xjc to provide /usr/bin/xjc (xjc) in auto mode\n",
            "update-alternatives: using /usr/lib/jvm/java-8-openjdk-amd64/bin/schemagen to provide /usr/bin/schemagen (schemagen) in auto mode\n",
            "update-alternatives: using /usr/lib/jvm/java-8-openjdk-amd64/bin/extcheck to provide /usr/bin/extcheck (extcheck) in auto mode\n",
            "update-alternatives: using /usr/lib/jvm/java-8-openjdk-amd64/bin/jhat to provide /usr/bin/jhat (jhat) in auto mode\n",
            "update-alternatives: using /usr/lib/jvm/java-8-openjdk-amd64/bin/wsgen to provide /usr/bin/wsgen (wsgen) in auto mode\n",
            "Processing triggers for libc-bin (2.31-0ubuntu9.9) ...\n"
          ]
        }
      ]
    },
    {
      "cell_type": "code",
      "source": [
        "from pydrive.auth import GoogleAuth\n",
        "from pydrive.drive import GoogleDrive\n",
        "from google.colab import auth\n",
        "from oauth2client.client import GoogleCredentials\n",
        "from pyspark.sql import *\n",
        "from pyspark.sql.functions import *\n",
        "from pyspark import SparkContext\n",
        "from pyspark.sql import SQLContext\n",
        "import pandas as pd"
      ],
      "metadata": {
        "id": "daDWopWP9pz9"
      },
      "execution_count": null,
      "outputs": []
    },
    {
      "cell_type": "code",
      "source": [
        "# create the Spark Session\n",
        "spark = SparkSession.builder.getOrCreate()\n",
        "\n",
        "# create the Spark Context\n",
        "sc = spark.sparkContext"
      ],
      "metadata": {
        "id": "Eozpeotm92il"
      },
      "execution_count": null,
      "outputs": []
    },
    {
      "cell_type": "code",
      "source": [
        "sqlContext = SQLContext(sc)\n",
        "df = sqlContext.read.csv('/content/drive/MyDrive/Wikipedia dataset 2c2021/contents.csv', header=True, inferSchema=True)\n",
        "rdd = df.rdd"
      ],
      "metadata": {
        "id": "y5vwMR8BBIqS",
        "colab": {
          "base_uri": "https://localhost:8080/"
        },
        "outputId": "a28c13da-15f0-4ae0-d587-acdeb3ab5a63"
      },
      "execution_count": null,
      "outputs": [
        {
          "output_type": "stream",
          "name": "stderr",
          "text": [
            "/usr/local/lib/python3.10/dist-packages/pyspark/sql/context.py:112: FutureWarning: Deprecated in 3.0.0. Use SparkSession.builder.getOrCreate() instead.\n",
            "  warnings.warn(\n"
          ]
        }
      ]
    },
    {
      "cell_type": "markdown",
      "source": [
        "28 El porcentaje de contenidos que están publicados cuya última edición no tiene comentario para los usuarios que realizaron 1, >10 y >100 de las últimas ediciones (⭐⭐)"
      ],
      "metadata": {
        "id": "37Jim9qtM5T3"
      }
    },
    {
      "cell_type": "markdown",
      "source": [
        "Filtro los que tienen datos None en los campos que me interesan."
      ],
      "metadata": {
        "id": "U1WZOUX7HIvp"
      }
    },
    {
      "cell_type": "code",
      "source": [
        "rdd = rdd.filter(lambda x: x.revisor_username != None and x.revisor_id != None)"
      ],
      "metadata": {
        "id": "Fj7Xf6TnUycH"
      },
      "execution_count": null,
      "outputs": []
    },
    {
      "cell_type": "markdown",
      "source": [
        "Para poder sacar porcentajes facilmente. Serializo el estar comentado o no, con 0 si no lo está, y 1 si lo está."
      ],
      "metadata": {
        "id": "Cv57QKvvHt5f"
      }
    },
    {
      "cell_type": "code",
      "source": [
        "def serializar_comentario(x):\n",
        "  if x:\n",
        "    return 1\n",
        "  return 0"
      ],
      "metadata": {
        "id": "_GxYeQClt1Ml"
      },
      "execution_count": null,
      "outputs": []
    },
    {
      "cell_type": "markdown",
      "source": [
        "armo registros de la forma (username, (comentado o no, contador))"
      ],
      "metadata": {
        "id": "MS3NmOF6H3QS"
      }
    },
    {
      "cell_type": "code",
      "source": [
        "rdd = rdd.map(lambda x: (x.revisor_username, (serializar_comentario(x.revisor_comment) , 1)))"
      ],
      "metadata": {
        "id": "LbaIgXzuRozc"
      },
      "execution_count": null,
      "outputs": []
    },
    {
      "cell_type": "code",
      "source": [
        "rdd.take(5)"
      ],
      "metadata": {
        "colab": {
          "base_uri": "https://localhost:8080/"
        },
        "id": "C5RARVDtl4CW",
        "outputId": "86e2c41d-15a6-44f9-c024-51282d4bdbf1"
      },
      "execution_count": null,
      "outputs": [
        {
          "output_type": "execute_result",
          "data": {
            "text/plain": [
              "[('Metrónomo', (1, 1)),\n",
              " ('Traitrich', (1, 1)),\n",
              " ('Lojwe', (1, 1)),\n",
              " ('Jialxv', (1, 1)),\n",
              " ('PatriHorrillo', (1, 1))]"
            ]
          },
          "metadata": {},
          "execution_count": 9
        }
      ]
    },
    {
      "cell_type": "markdown",
      "source": [
        "Sumo todos por username, quedandome (username, (cant_contenidos_sin_comentar, cant_contenidos))"
      ],
      "metadata": {
        "id": "ix7TpKB7IG8R"
      }
    },
    {
      "cell_type": "code",
      "source": [
        "rdd = rdd.reduceByKey(lambda x,y : (x[0]+y[0] , x[1]+y[1])).cache()"
      ],
      "metadata": {
        "id": "Kor9AEMOSigK"
      },
      "execution_count": null,
      "outputs": []
    },
    {
      "cell_type": "code",
      "source": [
        "rdd.take(10)"
      ],
      "metadata": {
        "colab": {
          "base_uri": "https://localhost:8080/"
        },
        "id": "orqqFRlSlpxm",
        "outputId": "09e254f5-47dd-4b91-a34f-341b131ef90a"
      },
      "execution_count": null,
      "outputs": [
        {
          "output_type": "execute_result",
          "data": {
            "text/plain": [
              "[('Traitrich', (3696, 3868)),\n",
              " ('ClauBr', (47, 69)),\n",
              " ('TueorUe', (4, 39)),\n",
              " ('SrCerberus', (2816, 2848)),\n",
              " ('Polinizador', (6511, 18924)),\n",
              " ('KLBot2', (76523, 76523)),\n",
              " ('BenjaBot', (13291, 13292)),\n",
              " ('148LENIN', (561, 1555)),\n",
              " ('Darubrub', (29, 43)),\n",
              " ('Luisgonzalez74', (105, 148))]"
            ]
          },
          "metadata": {},
          "execution_count": 11
        }
      ]
    },
    {
      "cell_type": "markdown",
      "source": [
        "Ahora, separo los usuarios por cantidad de contribuciones"
      ],
      "metadata": {
        "id": "l36umOhaIoN6"
      }
    },
    {
      "cell_type": "code",
      "source": [
        "rdd_1 = rdd.filter(lambda x: x[1][1] == 1)"
      ],
      "metadata": {
        "id": "zjxLby1NvKGM"
      },
      "execution_count": null,
      "outputs": []
    },
    {
      "cell_type": "code",
      "source": [
        "rdd_10 = rdd.filter(lambda x: x[1][1] > 10)"
      ],
      "metadata": {
        "id": "uLotihCBxFY8"
      },
      "execution_count": null,
      "outputs": []
    },
    {
      "cell_type": "code",
      "source": [
        "rdd_100 = rdd.filter(lambda x: x[1][1] > 100)"
      ],
      "metadata": {
        "id": "r1UCG83lxFz5"
      },
      "execution_count": null,
      "outputs": []
    },
    {
      "cell_type": "code",
      "source": [
        "rdd_1.take(5)"
      ],
      "metadata": {
        "colab": {
          "base_uri": "https://localhost:8080/"
        },
        "id": "k7OAXM3wxl65",
        "outputId": "cec0176b-3e94-4c36-fe96-2eb30e564999"
      },
      "execution_count": null,
      "outputs": [
        {
          "output_type": "execute_result",
          "data": {
            "text/plain": [
              "[('CarrotsMitHummus', (1, 1)),\n",
              " ('Jorgenev', (1, 1)),\n",
              " ('Fontanarr', (0, 1)),\n",
              " ('Miqalf', (1, 1)),\n",
              " ('A.Casusol', (1, 1))]"
            ]
          },
          "metadata": {},
          "execution_count": 102
        }
      ]
    },
    {
      "cell_type": "markdown",
      "source": [
        "El porcentaje de contenidos sin comentar de usuarios que realizaron una contribución es del 25,7% aproximadamente."
      ],
      "metadata": {
        "id": "VeGwIA2kIwWB"
      }
    },
    {
      "cell_type": "code",
      "source": [
        "resultado_1 = (rdd_1.reduce(lambda x,y: ('resultado_1', (x[1][0] + y[1][0], x[1][1] + y[1][1]))))\n",
        "100 - ((resultado_1[1][0])/(resultado_1[1][1]))*100"
      ],
      "metadata": {
        "colab": {
          "base_uri": "https://localhost:8080/"
        },
        "id": "xSbh1A-cxutA",
        "outputId": "f9b6dbdc-c946-423e-f79f-682436f2a3d9"
      },
      "execution_count": null,
      "outputs": [
        {
          "output_type": "execute_result",
          "data": {
            "text/plain": [
              "25.734553222361043"
            ]
          },
          "metadata": {},
          "execution_count": 15
        }
      ]
    },
    {
      "cell_type": "markdown",
      "source": [
        "El porcentaje de contenidos sin comentar de usuarios que realizaron más de diez contribuciones es del 9,7% aproximadamente."
      ],
      "metadata": {
        "id": "IgSBTkFsJBmR"
      }
    },
    {
      "cell_type": "code",
      "source": [
        "resultado_10 = (rdd_10.reduce(lambda x,y: ('resultado_10', (x[1][0] + y[1][0], x[1][1] + y[1][1]))))\n",
        "100 - ((resultado_10[1][0])/(resultado_10[1][1]))*100"
      ],
      "metadata": {
        "colab": {
          "base_uri": "https://localhost:8080/"
        },
        "id": "1J2JloahzQsJ",
        "outputId": "a93441bf-edc2-44dd-aadb-238f57b28a1c"
      },
      "execution_count": null,
      "outputs": [
        {
          "output_type": "execute_result",
          "data": {
            "text/plain": [
              "9.675239504198728"
            ]
          },
          "metadata": {},
          "execution_count": 20
        }
      ]
    },
    {
      "cell_type": "markdown",
      "source": [
        "El porcentaje de contenidos sin comentar de usuarios que realizaron más de cien contribuciones es del 9,2% aproximadamente."
      ],
      "metadata": {
        "id": "smWRldMvJOG5"
      }
    },
    {
      "cell_type": "code",
      "source": [
        "resultado_100 = (rdd_100.reduce(lambda x,y: ('resultado_100', (x[1][0] + y[1][0], x[1][1] + y[1][1]))))\n",
        "100 - ((resultado_100[1][0])/(resultado_100[1][1]))*100"
      ],
      "metadata": {
        "colab": {
          "base_uri": "https://localhost:8080/"
        },
        "id": "_e7TwxG1zVjw",
        "outputId": "8645a9fc-ca5d-46dd-a1f4-241117b6d514"
      },
      "execution_count": null,
      "outputs": [
        {
          "output_type": "execute_result",
          "data": {
            "text/plain": [
              "9.233210456511898"
            ]
          },
          "metadata": {},
          "execution_count": 17
        }
      ]
    }
  ]
}