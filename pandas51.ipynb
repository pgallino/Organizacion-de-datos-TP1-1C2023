{
  "nbformat": 4,
  "nbformat_minor": 0,
  "metadata": {
    "colab": {
      "provenance": [],
      "authorship_tag": "ABX9TyOdzTQm3PvWBMrncGnJEvtO",
      "include_colab_link": true
    },
    "kernelspec": {
      "name": "python3",
      "display_name": "Python 3"
    },
    "language_info": {
      "name": "python"
    }
  },
  "cells": [
    {
      "cell_type": "markdown",
      "metadata": {
        "id": "view-in-github",
        "colab_type": "text"
      },
      "source": [
        "<a href=\"https://colab.research.google.com/github/pgallino/Organizacion-de-datos-TP1-1C2023/blob/main/pandas51.ipynb\" target=\"_parent\"><img src=\"https://colab.research.google.com/assets/colab-badge.svg\" alt=\"Open In Colab\"/></a>"
      ]
    },
    {
      "cell_type": "code",
      "source": [
        "import pandas as pd"
      ],
      "metadata": {
        "id": "kt4zIk1Lm6sR"
      },
      "execution_count": null,
      "outputs": []
    },
    {
      "cell_type": "code",
      "source": [
        "from google.colab import drive\n",
        "drive.mount('/content/drive')"
      ],
      "metadata": {
        "colab": {
          "base_uri": "https://localhost:8080/"
        },
        "id": "s_izNGA8m6kJ",
        "outputId": "54f684e7-dff6-4af9-fd40-0589ebe706cb"
      },
      "execution_count": null,
      "outputs": [
        {
          "output_type": "stream",
          "name": "stdout",
          "text": [
            "Mounted at /content/drive\n"
          ]
        }
      ]
    },
    {
      "cell_type": "markdown",
      "source": [
        "51) Si la experiencia de un usuario es la cantidad de logs en los que participó, queremos saber que tanto nos sirve para predecir el futuro vandalismo: ¿Cuál es la probabilidad de que un usuario sea bloqueado según experiencias: <10, 10-40, 40-100, >100? Tener en cuenta que esta experiencia debe ser PREVIA al bloqueo del usuario. (⭐⭐⭐)"
      ],
      "metadata": {
        "id": "A9V6lZ33m3ai"
      }
    },
    {
      "cell_type": "markdown",
      "source": [
        "HAY DOS RESOLUCIONES. UNA ES CORRIGIENDO LO MARCADO EN LA PREENTREGA Y OTRA ES IMPLEMENTANDO LA RESOLUCIÓN SUGERIDA EN LA PREENTREGA POR EL CORRECTOR. LA RESOLUCIÓN \"CORRECTA\" ES LA SEGUNDA. EL COMIENZO ES IGUAL PARA AMBAS."
      ],
      "metadata": {
        "id": "1VSnaK2OdRM6"
      }
    },
    {
      "cell_type": "markdown",
      "source": [
        "Para analizar la cantidad de logs en los que participó cada usuario, utilizaré el timestamp, contributor_username, action y title. Si son usuarios, tienen contributor_username. Cada username, es único, por lo que lo usaré para identificarlos."
      ],
      "metadata": {
        "id": "oMl1pzM0MuHZ"
      }
    },
    {
      "cell_type": "code",
      "source": [
        "df_logs = pd.read_csv('/content/drive/MyDrive/Wikipedia dataset 2c2021/logs.csv', usecols = [1,2,7,8])\n",
        "df_logs.head(20)"
      ],
      "metadata": {
        "id": "UsNrQ6esm-vo"
      },
      "execution_count": null,
      "outputs": []
    },
    {
      "cell_type": "markdown",
      "source": [
        "Para poder contar los logs hasta el primer 'block', tengo que identificar el timestamp en la que fue bloqueado cada usuario.\n",
        "\n",
        "El username del usuario bloqueado no es 'contributor_username', sino que figura en 'title' como Usuario:'username'."
      ],
      "metadata": {
        "id": "9s1bjbHxNSaJ"
      }
    },
    {
      "cell_type": "code",
      "source": [
        "df_blocks = df_logs.loc[(df_logs.action == 'block') & ~(df_logs.title.isnull())]\n",
        "df_blocks = df_blocks[['timestamp','title']]\n",
        "df_blocks[\"title\"] = df_blocks.title.map(lambda x : x.split(\":\")[1]) #limpio el \"usuario:\"\n",
        "df_blocks = df_blocks.rename(columns={'title':'username', 'timestamp': 'tiempo_bloqueo'})"
      ],
      "metadata": {
        "id": "1e-zuVZTxBph"
      },
      "execution_count": null,
      "outputs": []
    },
    {
      "cell_type": "code",
      "source": [
        "df_blocks"
      ],
      "metadata": {
        "colab": {
          "base_uri": "https://localhost:8080/",
          "height": 424
        },
        "id": "Ba6dDqHmdzOO",
        "outputId": "61e68aa7-bd3b-47ad-ab0a-7f9c6c334cfe"
      },
      "execution_count": null,
      "outputs": [
        {
          "output_type": "execute_result",
          "data": {
            "text/plain": [
              "                tiempo_bloqueo         username\n",
              "5         2004-12-23T08:28:32Z    212.55.30.157\n",
              "287       2004-12-27T17:54:50Z   201.241.228.15\n",
              "288       2004-12-27T17:57:12Z    201.255.50.32\n",
              "290       2004-12-27T17:59:56Z     84.122.0.158\n",
              "313       2004-12-28T01:38:59Z     81.192.12.93\n",
              "...                        ...              ...\n",
              "12188865  2021-09-03T02:05:46Z  186.141.200.121\n",
              "12188886  2021-09-03T02:24:41Z        Galaxi066\n",
              "12188909  2021-09-03T02:52:42Z      Xx.tkpro.xx\n",
              "12188924  2021-09-03T03:00:14Z  181.167.104.152\n",
              "12188930  2021-09-03T03:05:02Z    190.18.98.138\n",
              "\n",
              "[341911 rows x 2 columns]"
            ],
            "text/html": [
              "\n",
              "  <div id=\"df-923f2180-0c10-49b0-8e6f-3d50b5153f86\">\n",
              "    <div class=\"colab-df-container\">\n",
              "      <div>\n",
              "<style scoped>\n",
              "    .dataframe tbody tr th:only-of-type {\n",
              "        vertical-align: middle;\n",
              "    }\n",
              "\n",
              "    .dataframe tbody tr th {\n",
              "        vertical-align: top;\n",
              "    }\n",
              "\n",
              "    .dataframe thead th {\n",
              "        text-align: right;\n",
              "    }\n",
              "</style>\n",
              "<table border=\"1\" class=\"dataframe\">\n",
              "  <thead>\n",
              "    <tr style=\"text-align: right;\">\n",
              "      <th></th>\n",
              "      <th>tiempo_bloqueo</th>\n",
              "      <th>username</th>\n",
              "    </tr>\n",
              "  </thead>\n",
              "  <tbody>\n",
              "    <tr>\n",
              "      <th>5</th>\n",
              "      <td>2004-12-23T08:28:32Z</td>\n",
              "      <td>212.55.30.157</td>\n",
              "    </tr>\n",
              "    <tr>\n",
              "      <th>287</th>\n",
              "      <td>2004-12-27T17:54:50Z</td>\n",
              "      <td>201.241.228.15</td>\n",
              "    </tr>\n",
              "    <tr>\n",
              "      <th>288</th>\n",
              "      <td>2004-12-27T17:57:12Z</td>\n",
              "      <td>201.255.50.32</td>\n",
              "    </tr>\n",
              "    <tr>\n",
              "      <th>290</th>\n",
              "      <td>2004-12-27T17:59:56Z</td>\n",
              "      <td>84.122.0.158</td>\n",
              "    </tr>\n",
              "    <tr>\n",
              "      <th>313</th>\n",
              "      <td>2004-12-28T01:38:59Z</td>\n",
              "      <td>81.192.12.93</td>\n",
              "    </tr>\n",
              "    <tr>\n",
              "      <th>...</th>\n",
              "      <td>...</td>\n",
              "      <td>...</td>\n",
              "    </tr>\n",
              "    <tr>\n",
              "      <th>12188865</th>\n",
              "      <td>2021-09-03T02:05:46Z</td>\n",
              "      <td>186.141.200.121</td>\n",
              "    </tr>\n",
              "    <tr>\n",
              "      <th>12188886</th>\n",
              "      <td>2021-09-03T02:24:41Z</td>\n",
              "      <td>Galaxi066</td>\n",
              "    </tr>\n",
              "    <tr>\n",
              "      <th>12188909</th>\n",
              "      <td>2021-09-03T02:52:42Z</td>\n",
              "      <td>Xx.tkpro.xx</td>\n",
              "    </tr>\n",
              "    <tr>\n",
              "      <th>12188924</th>\n",
              "      <td>2021-09-03T03:00:14Z</td>\n",
              "      <td>181.167.104.152</td>\n",
              "    </tr>\n",
              "    <tr>\n",
              "      <th>12188930</th>\n",
              "      <td>2021-09-03T03:05:02Z</td>\n",
              "      <td>190.18.98.138</td>\n",
              "    </tr>\n",
              "  </tbody>\n",
              "</table>\n",
              "<p>341911 rows × 2 columns</p>\n",
              "</div>\n",
              "      <button class=\"colab-df-convert\" onclick=\"convertToInteractive('df-923f2180-0c10-49b0-8e6f-3d50b5153f86')\"\n",
              "              title=\"Convert this dataframe to an interactive table.\"\n",
              "              style=\"display:none;\">\n",
              "        \n",
              "  <svg xmlns=\"http://www.w3.org/2000/svg\" height=\"24px\"viewBox=\"0 0 24 24\"\n",
              "       width=\"24px\">\n",
              "    <path d=\"M0 0h24v24H0V0z\" fill=\"none\"/>\n",
              "    <path d=\"M18.56 5.44l.94 2.06.94-2.06 2.06-.94-2.06-.94-.94-2.06-.94 2.06-2.06.94zm-11 1L8.5 8.5l.94-2.06 2.06-.94-2.06-.94L8.5 2.5l-.94 2.06-2.06.94zm10 10l.94 2.06.94-2.06 2.06-.94-2.06-.94-.94-2.06-.94 2.06-2.06.94z\"/><path d=\"M17.41 7.96l-1.37-1.37c-.4-.4-.92-.59-1.43-.59-.52 0-1.04.2-1.43.59L10.3 9.45l-7.72 7.72c-.78.78-.78 2.05 0 2.83L4 21.41c.39.39.9.59 1.41.59.51 0 1.02-.2 1.41-.59l7.78-7.78 2.81-2.81c.8-.78.8-2.07 0-2.86zM5.41 20L4 18.59l7.72-7.72 1.47 1.35L5.41 20z\"/>\n",
              "  </svg>\n",
              "      </button>\n",
              "      \n",
              "  <style>\n",
              "    .colab-df-container {\n",
              "      display:flex;\n",
              "      flex-wrap:wrap;\n",
              "      gap: 12px;\n",
              "    }\n",
              "\n",
              "    .colab-df-convert {\n",
              "      background-color: #E8F0FE;\n",
              "      border: none;\n",
              "      border-radius: 50%;\n",
              "      cursor: pointer;\n",
              "      display: none;\n",
              "      fill: #1967D2;\n",
              "      height: 32px;\n",
              "      padding: 0 0 0 0;\n",
              "      width: 32px;\n",
              "    }\n",
              "\n",
              "    .colab-df-convert:hover {\n",
              "      background-color: #E2EBFA;\n",
              "      box-shadow: 0px 1px 2px rgba(60, 64, 67, 0.3), 0px 1px 3px 1px rgba(60, 64, 67, 0.15);\n",
              "      fill: #174EA6;\n",
              "    }\n",
              "\n",
              "    [theme=dark] .colab-df-convert {\n",
              "      background-color: #3B4455;\n",
              "      fill: #D2E3FC;\n",
              "    }\n",
              "\n",
              "    [theme=dark] .colab-df-convert:hover {\n",
              "      background-color: #434B5C;\n",
              "      box-shadow: 0px 1px 3px 1px rgba(0, 0, 0, 0.15);\n",
              "      filter: drop-shadow(0px 1px 2px rgba(0, 0, 0, 0.3));\n",
              "      fill: #FFFFFF;\n",
              "    }\n",
              "  </style>\n",
              "\n",
              "      <script>\n",
              "        const buttonEl =\n",
              "          document.querySelector('#df-923f2180-0c10-49b0-8e6f-3d50b5153f86 button.colab-df-convert');\n",
              "        buttonEl.style.display =\n",
              "          google.colab.kernel.accessAllowed ? 'block' : 'none';\n",
              "\n",
              "        async function convertToInteractive(key) {\n",
              "          const element = document.querySelector('#df-923f2180-0c10-49b0-8e6f-3d50b5153f86');\n",
              "          const dataTable =\n",
              "            await google.colab.kernel.invokeFunction('convertToInteractive',\n",
              "                                                     [key], {});\n",
              "          if (!dataTable) return;\n",
              "\n",
              "          const docLinkHtml = 'Like what you see? Visit the ' +\n",
              "            '<a target=\"_blank\" href=https://colab.research.google.com/notebooks/data_table.ipynb>data table notebook</a>'\n",
              "            + ' to learn more about interactive tables.';\n",
              "          element.innerHTML = '';\n",
              "          dataTable['output_type'] = 'display_data';\n",
              "          await google.colab.output.renderOutput(dataTable, element);\n",
              "          const docLink = document.createElement('div');\n",
              "          docLink.innerHTML = docLinkHtml;\n",
              "          element.appendChild(docLink);\n",
              "        }\n",
              "      </script>\n",
              "    </div>\n",
              "  </div>\n",
              "  "
            ]
          },
          "metadata": {},
          "execution_count": 10
        }
      ]
    },
    {
      "cell_type": "markdown",
      "source": [
        "Como pueden ser bloqueados más de una vez, me quedo con la primera vez."
      ],
      "metadata": {
        "id": "s2Tm0JzpNhBI"
      }
    },
    {
      "cell_type": "code",
      "source": [
        "df_blocks = df_blocks.groupby('username', as_index = False).agg({\"tiempo_bloqueo\":\"min\"})"
      ],
      "metadata": {
        "id": "in_-5ybP0-eP"
      },
      "execution_count": null,
      "outputs": []
    },
    {
      "cell_type": "markdown",
      "source": [
        "Una vez obtenido el tiempo de bloqueo de cada usuario, lo uno al dataframe original para poder contar los logs, comparando si se realizó antes o después del mismo."
      ],
      "metadata": {
        "id": "xRcJr8lrOga_"
      }
    },
    {
      "cell_type": "code",
      "source": [
        "df_logs = df_logs.rename(columns={'contributor_username':'username'})\n",
        "df_total = pd.merge(df_logs , df_blocks, how = 'left')"
      ],
      "metadata": {
        "id": "ZynYAPp1N3aw"
      },
      "execution_count": null,
      "outputs": []
    },
    {
      "cell_type": "markdown",
      "source": [
        "Añado una columna con la info de si fue bloqueado o no alguna vez el usuario que realizo el log."
      ],
      "metadata": {
        "id": "nvfJfSECO6le"
      }
    },
    {
      "cell_type": "code",
      "source": [
        "df_total[\"bloqueado\"] = ~df_total.tiempo_bloqueo.isnull()"
      ],
      "metadata": {
        "id": "lQfbiR-3ObK3"
      },
      "execution_count": null,
      "outputs": []
    },
    {
      "cell_type": "code",
      "source": [
        "df_total.loc[df_total['bloqueado']]"
      ],
      "metadata": {
        "colab": {
          "base_uri": "https://localhost:8080/",
          "height": 424
        },
        "id": "L1PFLGQL518z",
        "outputId": "75678b0d-982b-4463-889c-8ebe8594ea63"
      },
      "execution_count": null,
      "outputs": [
        {
          "output_type": "execute_result",
          "data": {
            "text/plain": [
              "                     timestamp              username  action  \\\n",
              "0         2004-12-23T07:10:09Z                Sabbut  delete   \n",
              "1         2004-12-23T07:14:09Z                Sabbut  delete   \n",
              "2         2004-12-23T07:26:10Z                Sabbut  delete   \n",
              "3         2004-12-23T07:55:09Z                Sanbec  delete   \n",
              "4         2004-12-23T08:02:22Z                Sanbec  delete   \n",
              "...                        ...                   ...     ...   \n",
              "12188143  2021-09-02T19:24:49Z       David Sacristán  create   \n",
              "12188527  2021-09-02T23:03:42Z           Jason Daily  create   \n",
              "12188542  2021-09-02T23:11:30Z  Pervertidosinremedio  create   \n",
              "12188548  2021-09-02T23:14:35Z       JohnWayne454545  create   \n",
              "12188795  2021-09-03T01:03:08Z           Xx.tkpro.xx  create   \n",
              "\n",
              "                                                      title  \\\n",
              "0                                          Verificacionismo   \n",
              "1                                                  Rapunzel   \n",
              "2                                          Macromedia Flash   \n",
              "3                                      Archivo:Gnu head.png   \n",
              "4                                   Archivo:Gnu-head-sm.jpg   \n",
              "...                                                     ...   \n",
              "12188143  República de Cuevaland de los 3 centímetros cu...   \n",
              "12188527                        La Película \"Noche De Odio\"   \n",
              "12188542                       Usuario:Pervertidosinremedio   \n",
              "12188548                            Usuario:JohnWayne454545   \n",
              "12188795                                Usuario:Xx.tkpro.xx   \n",
              "\n",
              "                tiempo_bloqueo  bloqueado  \n",
              "0         2010-12-15T13:07:57Z       True  \n",
              "1         2010-12-15T13:07:57Z       True  \n",
              "2         2010-12-15T13:07:57Z       True  \n",
              "3         2005-07-22T11:15:19Z       True  \n",
              "4         2005-07-22T11:15:19Z       True  \n",
              "...                        ...        ...  \n",
              "12188143  2021-09-03T00:27:31Z       True  \n",
              "12188527  2021-09-03T00:18:49Z       True  \n",
              "12188542  2021-09-02T23:13:25Z       True  \n",
              "12188548  2021-09-03T00:39:46Z       True  \n",
              "12188795  2021-09-03T02:52:42Z       True  \n",
              "\n",
              "[845395 rows x 6 columns]"
            ],
            "text/html": [
              "\n",
              "  <div id=\"df-2aac16f7-cb4d-476d-9b31-ba4a89b34035\">\n",
              "    <div class=\"colab-df-container\">\n",
              "      <div>\n",
              "<style scoped>\n",
              "    .dataframe tbody tr th:only-of-type {\n",
              "        vertical-align: middle;\n",
              "    }\n",
              "\n",
              "    .dataframe tbody tr th {\n",
              "        vertical-align: top;\n",
              "    }\n",
              "\n",
              "    .dataframe thead th {\n",
              "        text-align: right;\n",
              "    }\n",
              "</style>\n",
              "<table border=\"1\" class=\"dataframe\">\n",
              "  <thead>\n",
              "    <tr style=\"text-align: right;\">\n",
              "      <th></th>\n",
              "      <th>timestamp</th>\n",
              "      <th>username</th>\n",
              "      <th>action</th>\n",
              "      <th>title</th>\n",
              "      <th>tiempo_bloqueo</th>\n",
              "      <th>bloqueado</th>\n",
              "    </tr>\n",
              "  </thead>\n",
              "  <tbody>\n",
              "    <tr>\n",
              "      <th>0</th>\n",
              "      <td>2004-12-23T07:10:09Z</td>\n",
              "      <td>Sabbut</td>\n",
              "      <td>delete</td>\n",
              "      <td>Verificacionismo</td>\n",
              "      <td>2010-12-15T13:07:57Z</td>\n",
              "      <td>True</td>\n",
              "    </tr>\n",
              "    <tr>\n",
              "      <th>1</th>\n",
              "      <td>2004-12-23T07:14:09Z</td>\n",
              "      <td>Sabbut</td>\n",
              "      <td>delete</td>\n",
              "      <td>Rapunzel</td>\n",
              "      <td>2010-12-15T13:07:57Z</td>\n",
              "      <td>True</td>\n",
              "    </tr>\n",
              "    <tr>\n",
              "      <th>2</th>\n",
              "      <td>2004-12-23T07:26:10Z</td>\n",
              "      <td>Sabbut</td>\n",
              "      <td>delete</td>\n",
              "      <td>Macromedia Flash</td>\n",
              "      <td>2010-12-15T13:07:57Z</td>\n",
              "      <td>True</td>\n",
              "    </tr>\n",
              "    <tr>\n",
              "      <th>3</th>\n",
              "      <td>2004-12-23T07:55:09Z</td>\n",
              "      <td>Sanbec</td>\n",
              "      <td>delete</td>\n",
              "      <td>Archivo:Gnu head.png</td>\n",
              "      <td>2005-07-22T11:15:19Z</td>\n",
              "      <td>True</td>\n",
              "    </tr>\n",
              "    <tr>\n",
              "      <th>4</th>\n",
              "      <td>2004-12-23T08:02:22Z</td>\n",
              "      <td>Sanbec</td>\n",
              "      <td>delete</td>\n",
              "      <td>Archivo:Gnu-head-sm.jpg</td>\n",
              "      <td>2005-07-22T11:15:19Z</td>\n",
              "      <td>True</td>\n",
              "    </tr>\n",
              "    <tr>\n",
              "      <th>...</th>\n",
              "      <td>...</td>\n",
              "      <td>...</td>\n",
              "      <td>...</td>\n",
              "      <td>...</td>\n",
              "      <td>...</td>\n",
              "      <td>...</td>\n",
              "    </tr>\n",
              "    <tr>\n",
              "      <th>12188143</th>\n",
              "      <td>2021-09-02T19:24:49Z</td>\n",
              "      <td>David Sacristán</td>\n",
              "      <td>create</td>\n",
              "      <td>República de Cuevaland de los 3 centímetros cu...</td>\n",
              "      <td>2021-09-03T00:27:31Z</td>\n",
              "      <td>True</td>\n",
              "    </tr>\n",
              "    <tr>\n",
              "      <th>12188527</th>\n",
              "      <td>2021-09-02T23:03:42Z</td>\n",
              "      <td>Jason Daily</td>\n",
              "      <td>create</td>\n",
              "      <td>La Película \"Noche De Odio\"</td>\n",
              "      <td>2021-09-03T00:18:49Z</td>\n",
              "      <td>True</td>\n",
              "    </tr>\n",
              "    <tr>\n",
              "      <th>12188542</th>\n",
              "      <td>2021-09-02T23:11:30Z</td>\n",
              "      <td>Pervertidosinremedio</td>\n",
              "      <td>create</td>\n",
              "      <td>Usuario:Pervertidosinremedio</td>\n",
              "      <td>2021-09-02T23:13:25Z</td>\n",
              "      <td>True</td>\n",
              "    </tr>\n",
              "    <tr>\n",
              "      <th>12188548</th>\n",
              "      <td>2021-09-02T23:14:35Z</td>\n",
              "      <td>JohnWayne454545</td>\n",
              "      <td>create</td>\n",
              "      <td>Usuario:JohnWayne454545</td>\n",
              "      <td>2021-09-03T00:39:46Z</td>\n",
              "      <td>True</td>\n",
              "    </tr>\n",
              "    <tr>\n",
              "      <th>12188795</th>\n",
              "      <td>2021-09-03T01:03:08Z</td>\n",
              "      <td>Xx.tkpro.xx</td>\n",
              "      <td>create</td>\n",
              "      <td>Usuario:Xx.tkpro.xx</td>\n",
              "      <td>2021-09-03T02:52:42Z</td>\n",
              "      <td>True</td>\n",
              "    </tr>\n",
              "  </tbody>\n",
              "</table>\n",
              "<p>845395 rows × 6 columns</p>\n",
              "</div>\n",
              "      <button class=\"colab-df-convert\" onclick=\"convertToInteractive('df-2aac16f7-cb4d-476d-9b31-ba4a89b34035')\"\n",
              "              title=\"Convert this dataframe to an interactive table.\"\n",
              "              style=\"display:none;\">\n",
              "        \n",
              "  <svg xmlns=\"http://www.w3.org/2000/svg\" height=\"24px\"viewBox=\"0 0 24 24\"\n",
              "       width=\"24px\">\n",
              "    <path d=\"M0 0h24v24H0V0z\" fill=\"none\"/>\n",
              "    <path d=\"M18.56 5.44l.94 2.06.94-2.06 2.06-.94-2.06-.94-.94-2.06-.94 2.06-2.06.94zm-11 1L8.5 8.5l.94-2.06 2.06-.94-2.06-.94L8.5 2.5l-.94 2.06-2.06.94zm10 10l.94 2.06.94-2.06 2.06-.94-2.06-.94-.94-2.06-.94 2.06-2.06.94z\"/><path d=\"M17.41 7.96l-1.37-1.37c-.4-.4-.92-.59-1.43-.59-.52 0-1.04.2-1.43.59L10.3 9.45l-7.72 7.72c-.78.78-.78 2.05 0 2.83L4 21.41c.39.39.9.59 1.41.59.51 0 1.02-.2 1.41-.59l7.78-7.78 2.81-2.81c.8-.78.8-2.07 0-2.86zM5.41 20L4 18.59l7.72-7.72 1.47 1.35L5.41 20z\"/>\n",
              "  </svg>\n",
              "      </button>\n",
              "      \n",
              "  <style>\n",
              "    .colab-df-container {\n",
              "      display:flex;\n",
              "      flex-wrap:wrap;\n",
              "      gap: 12px;\n",
              "    }\n",
              "\n",
              "    .colab-df-convert {\n",
              "      background-color: #E8F0FE;\n",
              "      border: none;\n",
              "      border-radius: 50%;\n",
              "      cursor: pointer;\n",
              "      display: none;\n",
              "      fill: #1967D2;\n",
              "      height: 32px;\n",
              "      padding: 0 0 0 0;\n",
              "      width: 32px;\n",
              "    }\n",
              "\n",
              "    .colab-df-convert:hover {\n",
              "      background-color: #E2EBFA;\n",
              "      box-shadow: 0px 1px 2px rgba(60, 64, 67, 0.3), 0px 1px 3px 1px rgba(60, 64, 67, 0.15);\n",
              "      fill: #174EA6;\n",
              "    }\n",
              "\n",
              "    [theme=dark] .colab-df-convert {\n",
              "      background-color: #3B4455;\n",
              "      fill: #D2E3FC;\n",
              "    }\n",
              "\n",
              "    [theme=dark] .colab-df-convert:hover {\n",
              "      background-color: #434B5C;\n",
              "      box-shadow: 0px 1px 3px 1px rgba(0, 0, 0, 0.15);\n",
              "      filter: drop-shadow(0px 1px 2px rgba(0, 0, 0, 0.3));\n",
              "      fill: #FFFFFF;\n",
              "    }\n",
              "  </style>\n",
              "\n",
              "      <script>\n",
              "        const buttonEl =\n",
              "          document.querySelector('#df-2aac16f7-cb4d-476d-9b31-ba4a89b34035 button.colab-df-convert');\n",
              "        buttonEl.style.display =\n",
              "          google.colab.kernel.accessAllowed ? 'block' : 'none';\n",
              "\n",
              "        async function convertToInteractive(key) {\n",
              "          const element = document.querySelector('#df-2aac16f7-cb4d-476d-9b31-ba4a89b34035');\n",
              "          const dataTable =\n",
              "            await google.colab.kernel.invokeFunction('convertToInteractive',\n",
              "                                                     [key], {});\n",
              "          if (!dataTable) return;\n",
              "\n",
              "          const docLinkHtml = 'Like what you see? Visit the ' +\n",
              "            '<a target=\"_blank\" href=https://colab.research.google.com/notebooks/data_table.ipynb>data table notebook</a>'\n",
              "            + ' to learn more about interactive tables.';\n",
              "          element.innerHTML = '';\n",
              "          dataTable['output_type'] = 'display_data';\n",
              "          await google.colab.output.renderOutput(dataTable, element);\n",
              "          const docLink = document.createElement('div');\n",
              "          docLink.innerHTML = docLinkHtml;\n",
              "          element.appendChild(docLink);\n",
              "        }\n",
              "      </script>\n",
              "    </div>\n",
              "  </div>\n",
              "  "
            ]
          },
          "metadata": {},
          "execution_count": 33
        }
      ]
    },
    {
      "cell_type": "markdown",
      "source": [
        "HASTA ACA COMPARTEN LAS DOS RESOLUCIONES"
      ],
      "metadata": {
        "id": "yPmFur3gtOmO"
      }
    },
    {
      "cell_type": "markdown",
      "source": [
        "________________________________________________________________________________"
      ],
      "metadata": {
        "id": "i3ws1Un5tKeG"
      }
    },
    {
      "cell_type": "markdown",
      "source": [
        "PRIMERA RESOLUCION - SEPARANDO EN DOS DATAFRAMES"
      ],
      "metadata": {
        "id": "QfbIUffxtS5N"
      }
    },
    {
      "cell_type": "markdown",
      "source": [
        "Separo el dataframe entre los usuarios bloqueados y los que no, lo cual me servirá para calcular la probabilidad con LAPLACE. Si el espacio es equiprobable, hago casos favorables sobre casos totales."
      ],
      "metadata": {
        "id": "LjU3_00_PLzH"
      }
    },
    {
      "cell_type": "code",
      "source": [
        "df_bloqueados = df_total[[x for x in df_total['bloqueado']]]\n",
        "df_no_bloqueados = df_total[[not x for x in df_total['bloqueado']]]"
      ],
      "metadata": {
        "id": "eumFyDB0TtDM"
      },
      "execution_count": null,
      "outputs": []
    },
    {
      "cell_type": "markdown",
      "source": [
        "Filtro todos los logs de los usuarios bloqueados antes de que sean bloqueados."
      ],
      "metadata": {
        "id": "xtzBO_PcPeRv"
      }
    },
    {
      "cell_type": "code",
      "source": [
        "df_bloqueados = df_bloqueados[[x.total_seconds() > 0 for x in (df_bloqueados['tiempo_bloqueo'] - df_bloqueados['timestamp'])]]"
      ],
      "metadata": {
        "id": "yuaTrN9YUeaC"
      },
      "execution_count": null,
      "outputs": []
    },
    {
      "cell_type": "code",
      "source": [
        "df_total.loc[df_total['action'] == 'block'] = df_total.loc[df_total[\"tiempo_bloqueo\"] > df_total[\"tiempo_registro\"]]"
      ],
      "metadata": {
        "id": "gOI6X9d0VvAv"
      },
      "execution_count": null,
      "outputs": []
    },
    {
      "cell_type": "markdown",
      "source": [
        "En este punto, ya tengo dos dataframes con todos los logs realizados por usuarios bloqueados y no bloqueados. De ellos, solo necesito el 'username' para agruparlos."
      ],
      "metadata": {
        "id": "pFaJjQNbPvgv"
      }
    },
    {
      "cell_type": "code",
      "source": [
        "df_bloqueados = df_bloqueados[['username']]\n",
        "df_no_bloqueados = df_no_bloqueados[['username']]"
      ],
      "metadata": {
        "id": "HQ-wn4h9YUGI"
      },
      "execution_count": null,
      "outputs": []
    },
    {
      "cell_type": "code",
      "source": [
        "df_bloqueados"
      ],
      "metadata": {
        "colab": {
          "base_uri": "https://localhost:8080/",
          "height": 424
        },
        "id": "_qKlrxy4X_qH",
        "outputId": "14fdf279-2091-42e9-86b4-fcdc32e14f62"
      },
      "execution_count": null,
      "outputs": [
        {
          "output_type": "execute_result",
          "data": {
            "text/plain": [
              "                      username\n",
              "0                       Sabbut\n",
              "1                       Sabbut\n",
              "2                       Sabbut\n",
              "3                       Sanbec\n",
              "4                       Sanbec\n",
              "...                        ...\n",
              "12188143       David Sacristán\n",
              "12188527           Jason Daily\n",
              "12188542  Pervertidosinremedio\n",
              "12188548       JohnWayne454545\n",
              "12188795           Xx.tkpro.xx\n",
              "\n",
              "[845395 rows x 1 columns]"
            ],
            "text/html": [
              "\n",
              "  <div id=\"df-d1d5a59f-f8b5-45ca-874b-eb95e7637139\">\n",
              "    <div class=\"colab-df-container\">\n",
              "      <div>\n",
              "<style scoped>\n",
              "    .dataframe tbody tr th:only-of-type {\n",
              "        vertical-align: middle;\n",
              "    }\n",
              "\n",
              "    .dataframe tbody tr th {\n",
              "        vertical-align: top;\n",
              "    }\n",
              "\n",
              "    .dataframe thead th {\n",
              "        text-align: right;\n",
              "    }\n",
              "</style>\n",
              "<table border=\"1\" class=\"dataframe\">\n",
              "  <thead>\n",
              "    <tr style=\"text-align: right;\">\n",
              "      <th></th>\n",
              "      <th>username</th>\n",
              "    </tr>\n",
              "  </thead>\n",
              "  <tbody>\n",
              "    <tr>\n",
              "      <th>0</th>\n",
              "      <td>Sabbut</td>\n",
              "    </tr>\n",
              "    <tr>\n",
              "      <th>1</th>\n",
              "      <td>Sabbut</td>\n",
              "    </tr>\n",
              "    <tr>\n",
              "      <th>2</th>\n",
              "      <td>Sabbut</td>\n",
              "    </tr>\n",
              "    <tr>\n",
              "      <th>3</th>\n",
              "      <td>Sanbec</td>\n",
              "    </tr>\n",
              "    <tr>\n",
              "      <th>4</th>\n",
              "      <td>Sanbec</td>\n",
              "    </tr>\n",
              "    <tr>\n",
              "      <th>...</th>\n",
              "      <td>...</td>\n",
              "    </tr>\n",
              "    <tr>\n",
              "      <th>12188143</th>\n",
              "      <td>David Sacristán</td>\n",
              "    </tr>\n",
              "    <tr>\n",
              "      <th>12188527</th>\n",
              "      <td>Jason Daily</td>\n",
              "    </tr>\n",
              "    <tr>\n",
              "      <th>12188542</th>\n",
              "      <td>Pervertidosinremedio</td>\n",
              "    </tr>\n",
              "    <tr>\n",
              "      <th>12188548</th>\n",
              "      <td>JohnWayne454545</td>\n",
              "    </tr>\n",
              "    <tr>\n",
              "      <th>12188795</th>\n",
              "      <td>Xx.tkpro.xx</td>\n",
              "    </tr>\n",
              "  </tbody>\n",
              "</table>\n",
              "<p>845395 rows × 1 columns</p>\n",
              "</div>\n",
              "      <button class=\"colab-df-convert\" onclick=\"convertToInteractive('df-d1d5a59f-f8b5-45ca-874b-eb95e7637139')\"\n",
              "              title=\"Convert this dataframe to an interactive table.\"\n",
              "              style=\"display:none;\">\n",
              "        \n",
              "  <svg xmlns=\"http://www.w3.org/2000/svg\" height=\"24px\"viewBox=\"0 0 24 24\"\n",
              "       width=\"24px\">\n",
              "    <path d=\"M0 0h24v24H0V0z\" fill=\"none\"/>\n",
              "    <path d=\"M18.56 5.44l.94 2.06.94-2.06 2.06-.94-2.06-.94-.94-2.06-.94 2.06-2.06.94zm-11 1L8.5 8.5l.94-2.06 2.06-.94-2.06-.94L8.5 2.5l-.94 2.06-2.06.94zm10 10l.94 2.06.94-2.06 2.06-.94-2.06-.94-.94-2.06-.94 2.06-2.06.94z\"/><path d=\"M17.41 7.96l-1.37-1.37c-.4-.4-.92-.59-1.43-.59-.52 0-1.04.2-1.43.59L10.3 9.45l-7.72 7.72c-.78.78-.78 2.05 0 2.83L4 21.41c.39.39.9.59 1.41.59.51 0 1.02-.2 1.41-.59l7.78-7.78 2.81-2.81c.8-.78.8-2.07 0-2.86zM5.41 20L4 18.59l7.72-7.72 1.47 1.35L5.41 20z\"/>\n",
              "  </svg>\n",
              "      </button>\n",
              "      \n",
              "  <style>\n",
              "    .colab-df-container {\n",
              "      display:flex;\n",
              "      flex-wrap:wrap;\n",
              "      gap: 12px;\n",
              "    }\n",
              "\n",
              "    .colab-df-convert {\n",
              "      background-color: #E8F0FE;\n",
              "      border: none;\n",
              "      border-radius: 50%;\n",
              "      cursor: pointer;\n",
              "      display: none;\n",
              "      fill: #1967D2;\n",
              "      height: 32px;\n",
              "      padding: 0 0 0 0;\n",
              "      width: 32px;\n",
              "    }\n",
              "\n",
              "    .colab-df-convert:hover {\n",
              "      background-color: #E2EBFA;\n",
              "      box-shadow: 0px 1px 2px rgba(60, 64, 67, 0.3), 0px 1px 3px 1px rgba(60, 64, 67, 0.15);\n",
              "      fill: #174EA6;\n",
              "    }\n",
              "\n",
              "    [theme=dark] .colab-df-convert {\n",
              "      background-color: #3B4455;\n",
              "      fill: #D2E3FC;\n",
              "    }\n",
              "\n",
              "    [theme=dark] .colab-df-convert:hover {\n",
              "      background-color: #434B5C;\n",
              "      box-shadow: 0px 1px 3px 1px rgba(0, 0, 0, 0.15);\n",
              "      filter: drop-shadow(0px 1px 2px rgba(0, 0, 0, 0.3));\n",
              "      fill: #FFFFFF;\n",
              "    }\n",
              "  </style>\n",
              "\n",
              "      <script>\n",
              "        const buttonEl =\n",
              "          document.querySelector('#df-d1d5a59f-f8b5-45ca-874b-eb95e7637139 button.colab-df-convert');\n",
              "        buttonEl.style.display =\n",
              "          google.colab.kernel.accessAllowed ? 'block' : 'none';\n",
              "\n",
              "        async function convertToInteractive(key) {\n",
              "          const element = document.querySelector('#df-d1d5a59f-f8b5-45ca-874b-eb95e7637139');\n",
              "          const dataTable =\n",
              "            await google.colab.kernel.invokeFunction('convertToInteractive',\n",
              "                                                     [key], {});\n",
              "          if (!dataTable) return;\n",
              "\n",
              "          const docLinkHtml = 'Like what you see? Visit the ' +\n",
              "            '<a target=\"_blank\" href=https://colab.research.google.com/notebooks/data_table.ipynb>data table notebook</a>'\n",
              "            + ' to learn more about interactive tables.';\n",
              "          element.innerHTML = '';\n",
              "          dataTable['output_type'] = 'display_data';\n",
              "          await google.colab.output.renderOutput(dataTable, element);\n",
              "          const docLink = document.createElement('div');\n",
              "          docLink.innerHTML = docLinkHtml;\n",
              "          element.appendChild(docLink);\n",
              "        }\n",
              "      </script>\n",
              "    </div>\n",
              "  </div>\n",
              "  "
            ]
          },
          "metadata": {},
          "execution_count": 19
        }
      ]
    },
    {
      "cell_type": "code",
      "source": [
        "df_no_bloqueados"
      ],
      "metadata": {
        "colab": {
          "base_uri": "https://localhost:8080/",
          "height": 424
        },
        "id": "AUk87X71YA2b",
        "outputId": "a895328e-4a94-41de-c280-02bfb583e1d1"
      },
      "execution_count": null,
      "outputs": [
        {
          "output_type": "execute_result",
          "data": {
            "text/plain": [
              "                       username\n",
              "14                     Ascánder\n",
              "16                     Ascánder\n",
              "17                     Ascánder\n",
              "18                     Ascánder\n",
              "19                     Ascánder\n",
              "...                         ...\n",
              "12188940  Yosoytunotuyosoytuaaa\n",
              "12188942            Leonpolanco\n",
              "12188943              Desiretjs\n",
              "12188944              Correogsk\n",
              "12188945             Liza.amane\n",
              "\n",
              "[9777548 rows x 1 columns]"
            ],
            "text/html": [
              "\n",
              "  <div id=\"df-34cddc44-0c28-46a7-83a9-15a2c004d2af\">\n",
              "    <div class=\"colab-df-container\">\n",
              "      <div>\n",
              "<style scoped>\n",
              "    .dataframe tbody tr th:only-of-type {\n",
              "        vertical-align: middle;\n",
              "    }\n",
              "\n",
              "    .dataframe tbody tr th {\n",
              "        vertical-align: top;\n",
              "    }\n",
              "\n",
              "    .dataframe thead th {\n",
              "        text-align: right;\n",
              "    }\n",
              "</style>\n",
              "<table border=\"1\" class=\"dataframe\">\n",
              "  <thead>\n",
              "    <tr style=\"text-align: right;\">\n",
              "      <th></th>\n",
              "      <th>username</th>\n",
              "    </tr>\n",
              "  </thead>\n",
              "  <tbody>\n",
              "    <tr>\n",
              "      <th>14</th>\n",
              "      <td>Ascánder</td>\n",
              "    </tr>\n",
              "    <tr>\n",
              "      <th>16</th>\n",
              "      <td>Ascánder</td>\n",
              "    </tr>\n",
              "    <tr>\n",
              "      <th>17</th>\n",
              "      <td>Ascánder</td>\n",
              "    </tr>\n",
              "    <tr>\n",
              "      <th>18</th>\n",
              "      <td>Ascánder</td>\n",
              "    </tr>\n",
              "    <tr>\n",
              "      <th>19</th>\n",
              "      <td>Ascánder</td>\n",
              "    </tr>\n",
              "    <tr>\n",
              "      <th>...</th>\n",
              "      <td>...</td>\n",
              "    </tr>\n",
              "    <tr>\n",
              "      <th>12188940</th>\n",
              "      <td>Yosoytunotuyosoytuaaa</td>\n",
              "    </tr>\n",
              "    <tr>\n",
              "      <th>12188942</th>\n",
              "      <td>Leonpolanco</td>\n",
              "    </tr>\n",
              "    <tr>\n",
              "      <th>12188943</th>\n",
              "      <td>Desiretjs</td>\n",
              "    </tr>\n",
              "    <tr>\n",
              "      <th>12188944</th>\n",
              "      <td>Correogsk</td>\n",
              "    </tr>\n",
              "    <tr>\n",
              "      <th>12188945</th>\n",
              "      <td>Liza.amane</td>\n",
              "    </tr>\n",
              "  </tbody>\n",
              "</table>\n",
              "<p>9777548 rows × 1 columns</p>\n",
              "</div>\n",
              "      <button class=\"colab-df-convert\" onclick=\"convertToInteractive('df-34cddc44-0c28-46a7-83a9-15a2c004d2af')\"\n",
              "              title=\"Convert this dataframe to an interactive table.\"\n",
              "              style=\"display:none;\">\n",
              "        \n",
              "  <svg xmlns=\"http://www.w3.org/2000/svg\" height=\"24px\"viewBox=\"0 0 24 24\"\n",
              "       width=\"24px\">\n",
              "    <path d=\"M0 0h24v24H0V0z\" fill=\"none\"/>\n",
              "    <path d=\"M18.56 5.44l.94 2.06.94-2.06 2.06-.94-2.06-.94-.94-2.06-.94 2.06-2.06.94zm-11 1L8.5 8.5l.94-2.06 2.06-.94-2.06-.94L8.5 2.5l-.94 2.06-2.06.94zm10 10l.94 2.06.94-2.06 2.06-.94-2.06-.94-.94-2.06-.94 2.06-2.06.94z\"/><path d=\"M17.41 7.96l-1.37-1.37c-.4-.4-.92-.59-1.43-.59-.52 0-1.04.2-1.43.59L10.3 9.45l-7.72 7.72c-.78.78-.78 2.05 0 2.83L4 21.41c.39.39.9.59 1.41.59.51 0 1.02-.2 1.41-.59l7.78-7.78 2.81-2.81c.8-.78.8-2.07 0-2.86zM5.41 20L4 18.59l7.72-7.72 1.47 1.35L5.41 20z\"/>\n",
              "  </svg>\n",
              "      </button>\n",
              "      \n",
              "  <style>\n",
              "    .colab-df-container {\n",
              "      display:flex;\n",
              "      flex-wrap:wrap;\n",
              "      gap: 12px;\n",
              "    }\n",
              "\n",
              "    .colab-df-convert {\n",
              "      background-color: #E8F0FE;\n",
              "      border: none;\n",
              "      border-radius: 50%;\n",
              "      cursor: pointer;\n",
              "      display: none;\n",
              "      fill: #1967D2;\n",
              "      height: 32px;\n",
              "      padding: 0 0 0 0;\n",
              "      width: 32px;\n",
              "    }\n",
              "\n",
              "    .colab-df-convert:hover {\n",
              "      background-color: #E2EBFA;\n",
              "      box-shadow: 0px 1px 2px rgba(60, 64, 67, 0.3), 0px 1px 3px 1px rgba(60, 64, 67, 0.15);\n",
              "      fill: #174EA6;\n",
              "    }\n",
              "\n",
              "    [theme=dark] .colab-df-convert {\n",
              "      background-color: #3B4455;\n",
              "      fill: #D2E3FC;\n",
              "    }\n",
              "\n",
              "    [theme=dark] .colab-df-convert:hover {\n",
              "      background-color: #434B5C;\n",
              "      box-shadow: 0px 1px 3px 1px rgba(0, 0, 0, 0.15);\n",
              "      filter: drop-shadow(0px 1px 2px rgba(0, 0, 0, 0.3));\n",
              "      fill: #FFFFFF;\n",
              "    }\n",
              "  </style>\n",
              "\n",
              "      <script>\n",
              "        const buttonEl =\n",
              "          document.querySelector('#df-34cddc44-0c28-46a7-83a9-15a2c004d2af button.colab-df-convert');\n",
              "        buttonEl.style.display =\n",
              "          google.colab.kernel.accessAllowed ? 'block' : 'none';\n",
              "\n",
              "        async function convertToInteractive(key) {\n",
              "          const element = document.querySelector('#df-34cddc44-0c28-46a7-83a9-15a2c004d2af');\n",
              "          const dataTable =\n",
              "            await google.colab.kernel.invokeFunction('convertToInteractive',\n",
              "                                                     [key], {});\n",
              "          if (!dataTable) return;\n",
              "\n",
              "          const docLinkHtml = 'Like what you see? Visit the ' +\n",
              "            '<a target=\"_blank\" href=https://colab.research.google.com/notebooks/data_table.ipynb>data table notebook</a>'\n",
              "            + ' to learn more about interactive tables.';\n",
              "          element.innerHTML = '';\n",
              "          dataTable['output_type'] = 'display_data';\n",
              "          await google.colab.output.renderOutput(dataTable, element);\n",
              "          const docLink = document.createElement('div');\n",
              "          docLink.innerHTML = docLinkHtml;\n",
              "          element.appendChild(docLink);\n",
              "        }\n",
              "      </script>\n",
              "    </div>\n",
              "  </div>\n",
              "  "
            ]
          },
          "metadata": {},
          "execution_count": 20
        }
      ]
    },
    {
      "cell_type": "markdown",
      "source": [
        "Agrego una columna 'cant_logs' con 1 para cuantificar la cantidad de logs de cada usuario."
      ],
      "metadata": {
        "id": "IGpJGSUEP92W"
      }
    },
    {
      "cell_type": "code",
      "source": [
        "df_bloqueados['cant_logs'] = 1\n",
        "df_no_bloqueados['cant_logs'] = 1"
      ],
      "metadata": {
        "id": "hXNOL-aNnJ44",
        "colab": {
          "base_uri": "https://localhost:8080/"
        },
        "outputId": "db05ddbd-df44-401d-9988-897f85c1f038"
      },
      "execution_count": null,
      "outputs": [
        {
          "output_type": "stream",
          "name": "stderr",
          "text": [
            "<ipython-input-21-fc2b71113524>:2: SettingWithCopyWarning: \n",
            "A value is trying to be set on a copy of a slice from a DataFrame.\n",
            "Try using .loc[row_indexer,col_indexer] = value instead\n",
            "\n",
            "See the caveats in the documentation: https://pandas.pydata.org/pandas-docs/stable/user_guide/indexing.html#returning-a-view-versus-a-copy\n",
            "  df_no_bloqueados['cant_logs'] = 1\n"
          ]
        }
      ]
    },
    {
      "cell_type": "markdown",
      "source": [
        "Cuento los logs por usuario."
      ],
      "metadata": {
        "id": "oqD5mGXtQfX-"
      }
    },
    {
      "cell_type": "code",
      "source": [
        "df_bloqueados = df_bloqueados.groupby(['username']).count()\n",
        "df_no_bloqueados = df_no_bloqueados.groupby(['username']).count()"
      ],
      "metadata": {
        "id": "-86J8F1CbCUV"
      },
      "execution_count": null,
      "outputs": []
    },
    {
      "cell_type": "markdown",
      "source": [
        "Puedo ver la cantidad de logs realizados por cada usuario y ordenarlos."
      ],
      "metadata": {
        "id": "n2aFNUsTQsiO"
      }
    },
    {
      "cell_type": "code",
      "source": [
        "df_bloqueados.sort_values(['cant_logs'])"
      ],
      "metadata": {
        "colab": {
          "base_uri": "https://localhost:8080/",
          "height": 455
        },
        "id": "EHCT6hHobdd7",
        "outputId": "411e110d-efdf-419b-d2ea-54b268211677"
      },
      "execution_count": null,
      "outputs": [
        {
          "output_type": "execute_result",
          "data": {
            "text/plain": [
              "                                         cant_logs\n",
              "username                                          \n",
              "! ! ! ! ! ! ! ! ! ! ! ! ! ! HAGGEⓇ? 123          1\n",
              "Miunicornio.com                                  1\n",
              "Miumpyli                                         1\n",
              "Mitzukiuchiha14                                  1\n",
              "Mitus82                                          1\n",
              "...                                            ...\n",
              "Yrithinnd                                    21779\n",
              "Hprmedina                                    26971\n",
              "Dodo                                         28788\n",
              "Sabbut                                       46094\n",
              "InternetArchiveBot                          163770\n",
              "\n",
              "[95314 rows x 1 columns]"
            ],
            "text/html": [
              "\n",
              "  <div id=\"df-0811420a-deb9-4428-99d7-522cb47eda8b\">\n",
              "    <div class=\"colab-df-container\">\n",
              "      <div>\n",
              "<style scoped>\n",
              "    .dataframe tbody tr th:only-of-type {\n",
              "        vertical-align: middle;\n",
              "    }\n",
              "\n",
              "    .dataframe tbody tr th {\n",
              "        vertical-align: top;\n",
              "    }\n",
              "\n",
              "    .dataframe thead th {\n",
              "        text-align: right;\n",
              "    }\n",
              "</style>\n",
              "<table border=\"1\" class=\"dataframe\">\n",
              "  <thead>\n",
              "    <tr style=\"text-align: right;\">\n",
              "      <th></th>\n",
              "      <th>cant_logs</th>\n",
              "    </tr>\n",
              "    <tr>\n",
              "      <th>username</th>\n",
              "      <th></th>\n",
              "    </tr>\n",
              "  </thead>\n",
              "  <tbody>\n",
              "    <tr>\n",
              "      <th>! ! ! ! ! ! ! ! ! ! ! ! ! ! HAGGEⓇ? 123</th>\n",
              "      <td>1</td>\n",
              "    </tr>\n",
              "    <tr>\n",
              "      <th>Miunicornio.com</th>\n",
              "      <td>1</td>\n",
              "    </tr>\n",
              "    <tr>\n",
              "      <th>Miumpyli</th>\n",
              "      <td>1</td>\n",
              "    </tr>\n",
              "    <tr>\n",
              "      <th>Mitzukiuchiha14</th>\n",
              "      <td>1</td>\n",
              "    </tr>\n",
              "    <tr>\n",
              "      <th>Mitus82</th>\n",
              "      <td>1</td>\n",
              "    </tr>\n",
              "    <tr>\n",
              "      <th>...</th>\n",
              "      <td>...</td>\n",
              "    </tr>\n",
              "    <tr>\n",
              "      <th>Yrithinnd</th>\n",
              "      <td>21779</td>\n",
              "    </tr>\n",
              "    <tr>\n",
              "      <th>Hprmedina</th>\n",
              "      <td>26971</td>\n",
              "    </tr>\n",
              "    <tr>\n",
              "      <th>Dodo</th>\n",
              "      <td>28788</td>\n",
              "    </tr>\n",
              "    <tr>\n",
              "      <th>Sabbut</th>\n",
              "      <td>46094</td>\n",
              "    </tr>\n",
              "    <tr>\n",
              "      <th>InternetArchiveBot</th>\n",
              "      <td>163770</td>\n",
              "    </tr>\n",
              "  </tbody>\n",
              "</table>\n",
              "<p>95314 rows × 1 columns</p>\n",
              "</div>\n",
              "      <button class=\"colab-df-convert\" onclick=\"convertToInteractive('df-0811420a-deb9-4428-99d7-522cb47eda8b')\"\n",
              "              title=\"Convert this dataframe to an interactive table.\"\n",
              "              style=\"display:none;\">\n",
              "        \n",
              "  <svg xmlns=\"http://www.w3.org/2000/svg\" height=\"24px\"viewBox=\"0 0 24 24\"\n",
              "       width=\"24px\">\n",
              "    <path d=\"M0 0h24v24H0V0z\" fill=\"none\"/>\n",
              "    <path d=\"M18.56 5.44l.94 2.06.94-2.06 2.06-.94-2.06-.94-.94-2.06-.94 2.06-2.06.94zm-11 1L8.5 8.5l.94-2.06 2.06-.94-2.06-.94L8.5 2.5l-.94 2.06-2.06.94zm10 10l.94 2.06.94-2.06 2.06-.94-2.06-.94-.94-2.06-.94 2.06-2.06.94z\"/><path d=\"M17.41 7.96l-1.37-1.37c-.4-.4-.92-.59-1.43-.59-.52 0-1.04.2-1.43.59L10.3 9.45l-7.72 7.72c-.78.78-.78 2.05 0 2.83L4 21.41c.39.39.9.59 1.41.59.51 0 1.02-.2 1.41-.59l7.78-7.78 2.81-2.81c.8-.78.8-2.07 0-2.86zM5.41 20L4 18.59l7.72-7.72 1.47 1.35L5.41 20z\"/>\n",
              "  </svg>\n",
              "      </button>\n",
              "      \n",
              "  <style>\n",
              "    .colab-df-container {\n",
              "      display:flex;\n",
              "      flex-wrap:wrap;\n",
              "      gap: 12px;\n",
              "    }\n",
              "\n",
              "    .colab-df-convert {\n",
              "      background-color: #E8F0FE;\n",
              "      border: none;\n",
              "      border-radius: 50%;\n",
              "      cursor: pointer;\n",
              "      display: none;\n",
              "      fill: #1967D2;\n",
              "      height: 32px;\n",
              "      padding: 0 0 0 0;\n",
              "      width: 32px;\n",
              "    }\n",
              "\n",
              "    .colab-df-convert:hover {\n",
              "      background-color: #E2EBFA;\n",
              "      box-shadow: 0px 1px 2px rgba(60, 64, 67, 0.3), 0px 1px 3px 1px rgba(60, 64, 67, 0.15);\n",
              "      fill: #174EA6;\n",
              "    }\n",
              "\n",
              "    [theme=dark] .colab-df-convert {\n",
              "      background-color: #3B4455;\n",
              "      fill: #D2E3FC;\n",
              "    }\n",
              "\n",
              "    [theme=dark] .colab-df-convert:hover {\n",
              "      background-color: #434B5C;\n",
              "      box-shadow: 0px 1px 3px 1px rgba(0, 0, 0, 0.15);\n",
              "      filter: drop-shadow(0px 1px 2px rgba(0, 0, 0, 0.3));\n",
              "      fill: #FFFFFF;\n",
              "    }\n",
              "  </style>\n",
              "\n",
              "      <script>\n",
              "        const buttonEl =\n",
              "          document.querySelector('#df-0811420a-deb9-4428-99d7-522cb47eda8b button.colab-df-convert');\n",
              "        buttonEl.style.display =\n",
              "          google.colab.kernel.accessAllowed ? 'block' : 'none';\n",
              "\n",
              "        async function convertToInteractive(key) {\n",
              "          const element = document.querySelector('#df-0811420a-deb9-4428-99d7-522cb47eda8b');\n",
              "          const dataTable =\n",
              "            await google.colab.kernel.invokeFunction('convertToInteractive',\n",
              "                                                     [key], {});\n",
              "          if (!dataTable) return;\n",
              "\n",
              "          const docLinkHtml = 'Like what you see? Visit the ' +\n",
              "            '<a target=\"_blank\" href=https://colab.research.google.com/notebooks/data_table.ipynb>data table notebook</a>'\n",
              "            + ' to learn more about interactive tables.';\n",
              "          element.innerHTML = '';\n",
              "          dataTable['output_type'] = 'display_data';\n",
              "          await google.colab.output.renderOutput(dataTable, element);\n",
              "          const docLink = document.createElement('div');\n",
              "          docLink.innerHTML = docLinkHtml;\n",
              "          element.appendChild(docLink);\n",
              "        }\n",
              "      </script>\n",
              "    </div>\n",
              "  </div>\n",
              "  "
            ]
          },
          "metadata": {},
          "execution_count": 24
        }
      ]
    },
    {
      "cell_type": "code",
      "source": [
        "df_no_bloqueados.sort_values(['cant_logs'])"
      ],
      "metadata": {
        "colab": {
          "base_uri": "https://localhost:8080/",
          "height": 455
        },
        "id": "KM-tXwMNo5ZJ",
        "outputId": "b46e732a-5f73-4fce-97d8-825f0854a847"
      },
      "execution_count": null,
      "outputs": [
        {
          "output_type": "execute_result",
          "data": {
            "text/plain": [
              "                                                cant_logs\n",
              "username                                                 \n",
              "! ! ! Histoire hebdomadaire de la patrie ! ! !          1\n",
              "Michelleasq                                             1\n",
              "Michellearogers                                         1\n",
              "Michellearmy                                            1\n",
              "Michellearlette                                         1\n",
              "...                                                   ...\n",
              "Marcelo                                             90044\n",
              "Humberto                                           101765\n",
              "Antur                                              112565\n",
              "Taichi                                             193345\n",
              "Maintenance script                                 379263\n",
              "\n",
              "[6093555 rows x 1 columns]"
            ],
            "text/html": [
              "\n",
              "  <div id=\"df-2471a17f-543d-4b2b-976f-149f22ef2558\">\n",
              "    <div class=\"colab-df-container\">\n",
              "      <div>\n",
              "<style scoped>\n",
              "    .dataframe tbody tr th:only-of-type {\n",
              "        vertical-align: middle;\n",
              "    }\n",
              "\n",
              "    .dataframe tbody tr th {\n",
              "        vertical-align: top;\n",
              "    }\n",
              "\n",
              "    .dataframe thead th {\n",
              "        text-align: right;\n",
              "    }\n",
              "</style>\n",
              "<table border=\"1\" class=\"dataframe\">\n",
              "  <thead>\n",
              "    <tr style=\"text-align: right;\">\n",
              "      <th></th>\n",
              "      <th>cant_logs</th>\n",
              "    </tr>\n",
              "    <tr>\n",
              "      <th>username</th>\n",
              "      <th></th>\n",
              "    </tr>\n",
              "  </thead>\n",
              "  <tbody>\n",
              "    <tr>\n",
              "      <th>! ! ! Histoire hebdomadaire de la patrie ! ! !</th>\n",
              "      <td>1</td>\n",
              "    </tr>\n",
              "    <tr>\n",
              "      <th>Michelleasq</th>\n",
              "      <td>1</td>\n",
              "    </tr>\n",
              "    <tr>\n",
              "      <th>Michellearogers</th>\n",
              "      <td>1</td>\n",
              "    </tr>\n",
              "    <tr>\n",
              "      <th>Michellearmy</th>\n",
              "      <td>1</td>\n",
              "    </tr>\n",
              "    <tr>\n",
              "      <th>Michellearlette</th>\n",
              "      <td>1</td>\n",
              "    </tr>\n",
              "    <tr>\n",
              "      <th>...</th>\n",
              "      <td>...</td>\n",
              "    </tr>\n",
              "    <tr>\n",
              "      <th>Marcelo</th>\n",
              "      <td>90044</td>\n",
              "    </tr>\n",
              "    <tr>\n",
              "      <th>Humberto</th>\n",
              "      <td>101765</td>\n",
              "    </tr>\n",
              "    <tr>\n",
              "      <th>Antur</th>\n",
              "      <td>112565</td>\n",
              "    </tr>\n",
              "    <tr>\n",
              "      <th>Taichi</th>\n",
              "      <td>193345</td>\n",
              "    </tr>\n",
              "    <tr>\n",
              "      <th>Maintenance script</th>\n",
              "      <td>379263</td>\n",
              "    </tr>\n",
              "  </tbody>\n",
              "</table>\n",
              "<p>6093555 rows × 1 columns</p>\n",
              "</div>\n",
              "      <button class=\"colab-df-convert\" onclick=\"convertToInteractive('df-2471a17f-543d-4b2b-976f-149f22ef2558')\"\n",
              "              title=\"Convert this dataframe to an interactive table.\"\n",
              "              style=\"display:none;\">\n",
              "        \n",
              "  <svg xmlns=\"http://www.w3.org/2000/svg\" height=\"24px\"viewBox=\"0 0 24 24\"\n",
              "       width=\"24px\">\n",
              "    <path d=\"M0 0h24v24H0V0z\" fill=\"none\"/>\n",
              "    <path d=\"M18.56 5.44l.94 2.06.94-2.06 2.06-.94-2.06-.94-.94-2.06-.94 2.06-2.06.94zm-11 1L8.5 8.5l.94-2.06 2.06-.94-2.06-.94L8.5 2.5l-.94 2.06-2.06.94zm10 10l.94 2.06.94-2.06 2.06-.94-2.06-.94-.94-2.06-.94 2.06-2.06.94z\"/><path d=\"M17.41 7.96l-1.37-1.37c-.4-.4-.92-.59-1.43-.59-.52 0-1.04.2-1.43.59L10.3 9.45l-7.72 7.72c-.78.78-.78 2.05 0 2.83L4 21.41c.39.39.9.59 1.41.59.51 0 1.02-.2 1.41-.59l7.78-7.78 2.81-2.81c.8-.78.8-2.07 0-2.86zM5.41 20L4 18.59l7.72-7.72 1.47 1.35L5.41 20z\"/>\n",
              "  </svg>\n",
              "      </button>\n",
              "      \n",
              "  <style>\n",
              "    .colab-df-container {\n",
              "      display:flex;\n",
              "      flex-wrap:wrap;\n",
              "      gap: 12px;\n",
              "    }\n",
              "\n",
              "    .colab-df-convert {\n",
              "      background-color: #E8F0FE;\n",
              "      border: none;\n",
              "      border-radius: 50%;\n",
              "      cursor: pointer;\n",
              "      display: none;\n",
              "      fill: #1967D2;\n",
              "      height: 32px;\n",
              "      padding: 0 0 0 0;\n",
              "      width: 32px;\n",
              "    }\n",
              "\n",
              "    .colab-df-convert:hover {\n",
              "      background-color: #E2EBFA;\n",
              "      box-shadow: 0px 1px 2px rgba(60, 64, 67, 0.3), 0px 1px 3px 1px rgba(60, 64, 67, 0.15);\n",
              "      fill: #174EA6;\n",
              "    }\n",
              "\n",
              "    [theme=dark] .colab-df-convert {\n",
              "      background-color: #3B4455;\n",
              "      fill: #D2E3FC;\n",
              "    }\n",
              "\n",
              "    [theme=dark] .colab-df-convert:hover {\n",
              "      background-color: #434B5C;\n",
              "      box-shadow: 0px 1px 3px 1px rgba(0, 0, 0, 0.15);\n",
              "      filter: drop-shadow(0px 1px 2px rgba(0, 0, 0, 0.3));\n",
              "      fill: #FFFFFF;\n",
              "    }\n",
              "  </style>\n",
              "\n",
              "      <script>\n",
              "        const buttonEl =\n",
              "          document.querySelector('#df-2471a17f-543d-4b2b-976f-149f22ef2558 button.colab-df-convert');\n",
              "        buttonEl.style.display =\n",
              "          google.colab.kernel.accessAllowed ? 'block' : 'none';\n",
              "\n",
              "        async function convertToInteractive(key) {\n",
              "          const element = document.querySelector('#df-2471a17f-543d-4b2b-976f-149f22ef2558');\n",
              "          const dataTable =\n",
              "            await google.colab.kernel.invokeFunction('convertToInteractive',\n",
              "                                                     [key], {});\n",
              "          if (!dataTable) return;\n",
              "\n",
              "          const docLinkHtml = 'Like what you see? Visit the ' +\n",
              "            '<a target=\"_blank\" href=https://colab.research.google.com/notebooks/data_table.ipynb>data table notebook</a>'\n",
              "            + ' to learn more about interactive tables.';\n",
              "          element.innerHTML = '';\n",
              "          dataTable['output_type'] = 'display_data';\n",
              "          await google.colab.output.renderOutput(dataTable, element);\n",
              "          const docLink = document.createElement('div');\n",
              "          docLink.innerHTML = docLinkHtml;\n",
              "          element.appendChild(docLink);\n",
              "        }\n",
              "      </script>\n",
              "    </div>\n",
              "  </div>\n",
              "  "
            ]
          },
          "metadata": {},
          "execution_count": 25
        }
      ]
    },
    {
      "cell_type": "markdown",
      "source": [
        "Defino una función para agilizar el cálculo de la probabilidad. Recibe el mínimo y el máximo de experiencias.\n",
        "Para calcularla, obtengo la cantidad de bloqueados con ese rango de experiencias y la divido sobre la cantidad de usuarios totales con ese rango de experiencias."
      ],
      "metadata": {
        "id": "gLoFU844xksB"
      }
    },
    {
      "cell_type": "code",
      "source": [
        "def prob_ser_bloqueado_por_cant_logs(min, max):\n",
        "  cant_bloqueados = len((df_bloqueados[[ min <= x < max for x in df_bloqueados['cant_logs']]]).index)\n",
        "  cant_no_bloqueados = len((df_no_bloqueados[[ min <= x < max for x in df_no_bloqueados['cant_logs']]]).index)\n",
        "  prom = cant_bloqueados/(cant_bloqueados + cant_no_bloqueados)\n",
        "  return prom"
      ],
      "metadata": {
        "id": "AMVIEuW2SaJF"
      },
      "execution_count": null,
      "outputs": []
    },
    {
      "cell_type": "markdown",
      "source": [
        "Puedo ver la probabilidad de ser bloqueado para un usuario con menos de 10 experiencias = 0.015 aproximadamente."
      ],
      "metadata": {
        "id": "cdWtoN03ySV3"
      }
    },
    {
      "cell_type": "code",
      "source": [
        "prob_ser_bloqueado_por_cant_logs(0,10)"
      ],
      "metadata": {
        "colab": {
          "base_uri": "https://localhost:8080/"
        },
        "id": "oZh6MzpuTpMD",
        "outputId": "c4db76cf-facf-45bc-a236-9ac8621c80b1"
      },
      "execution_count": null,
      "outputs": [
        {
          "output_type": "execute_result",
          "data": {
            "text/plain": [
              "0.015154709858636196"
            ]
          },
          "metadata": {},
          "execution_count": 65
        }
      ]
    },
    {
      "cell_type": "markdown",
      "source": [
        "Puedo ver la probabilidad de ser bloqueado para un usuario con un rango de [10;40) experiencias = 0.1857 aproximadamente."
      ],
      "metadata": {
        "id": "UfAmIBEyygVN"
      }
    },
    {
      "cell_type": "code",
      "source": [
        "prob_ser_bloqueado_por_cant_logs(10,40)"
      ],
      "metadata": {
        "colab": {
          "base_uri": "https://localhost:8080/"
        },
        "id": "xn9jeoRVT-OK",
        "outputId": "66cb4d9a-70a3-400e-8846-cf55590dc5af"
      },
      "execution_count": null,
      "outputs": [
        {
          "output_type": "execute_result",
          "data": {
            "text/plain": [
              "0.18572614107883817"
            ]
          },
          "metadata": {},
          "execution_count": 66
        }
      ]
    },
    {
      "cell_type": "markdown",
      "source": [
        "Puedo ver la probabilidad de ser bloqueado para un usuario con un rango de [40,100) experiencias = 0.1730 aproximadamente."
      ],
      "metadata": {
        "id": "8BXY_5LSy12c"
      }
    },
    {
      "cell_type": "code",
      "source": [
        "prob_ser_bloqueado_por_cant_logs(40,100)"
      ],
      "metadata": {
        "colab": {
          "base_uri": "https://localhost:8080/"
        },
        "id": "4GpFvxR4T_zK",
        "outputId": "d905fa92-7209-4ec6-9799-3bf04af45728"
      },
      "execution_count": null,
      "outputs": [
        {
          "output_type": "execute_result",
          "data": {
            "text/plain": [
              "0.1730225988700565"
            ]
          },
          "metadata": {},
          "execution_count": 67
        }
      ]
    },
    {
      "cell_type": "markdown",
      "source": [
        "Puedo ver la probabilidad de ser bloqueado para un usuario con 100 o más experiencias = 0.1754 aproximadamente."
      ],
      "metadata": {
        "id": "wOz4xBU4zC5b"
      }
    },
    {
      "cell_type": "code",
      "source": [
        "prob_ser_bloqueado_por_cant_logs(100,1000000000000)"
      ],
      "metadata": {
        "colab": {
          "base_uri": "https://localhost:8080/"
        },
        "id": "hjtR8t-AUAd6",
        "outputId": "9eb3f67e-508d-4c75-879e-037291ebf721"
      },
      "execution_count": null,
      "outputs": [
        {
          "output_type": "execute_result",
          "data": {
            "text/plain": [
              "0.1753972925250147"
            ]
          },
          "metadata": {},
          "execution_count": 68
        }
      ]
    },
    {
      "cell_type": "markdown",
      "source": [
        "________________________________________________________________________________"
      ],
      "metadata": {
        "id": "uBZ8ltUXtAZP"
      }
    },
    {
      "cell_type": "markdown",
      "source": [
        "SEGUNDA RESOLUCIÓN - SIN SEPARAR EN DOS DATAFRAMES"
      ],
      "metadata": {
        "id": "kfQHyddqtDhu"
      }
    },
    {
      "cell_type": "code",
      "source": [
        "df_total = df_total.loc[(~df_total['bloqueado']) | (df_total['bloqueado'] & (df_total['tiempo_bloqueo'] > df_total['timestamp']))]"
      ],
      "metadata": {
        "id": "vi9eSJcbcLZ4"
      },
      "execution_count": null,
      "outputs": []
    },
    {
      "cell_type": "code",
      "source": [
        "df_total"
      ],
      "metadata": {
        "colab": {
          "base_uri": "https://localhost:8080/",
          "height": 424
        },
        "id": "vy5W7DJogjvr",
        "outputId": "d03ab1bf-e4bc-4fea-8539-653c76397c28"
      },
      "execution_count": null,
      "outputs": [
        {
          "output_type": "execute_result",
          "data": {
            "text/plain": [
              "                     timestamp               username   action  \\\n",
              "0         2004-12-23T07:10:09Z                 Sabbut   delete   \n",
              "1         2004-12-23T07:14:09Z                 Sabbut   delete   \n",
              "2         2004-12-23T07:26:10Z                 Sabbut   delete   \n",
              "3         2004-12-23T07:55:09Z                 Sanbec   delete   \n",
              "4         2004-12-23T08:02:22Z                 Sanbec   delete   \n",
              "...                        ...                    ...      ...   \n",
              "12188940  2021-09-03T03:08:58Z  Yosoytunotuyosoytuaaa  byemail   \n",
              "12188942  2021-09-03T03:09:48Z            Leonpolanco   create   \n",
              "12188943  2021-09-03T03:09:49Z              Desiretjs   create   \n",
              "12188944  2021-09-03T03:10:33Z              Correogsk   create   \n",
              "12188945  2021-09-03T03:10:38Z             Liza.amane   create   \n",
              "\n",
              "                                                      title  \\\n",
              "0                                          Verificacionismo   \n",
              "1                                                  Rapunzel   \n",
              "2                                          Macromedia Flash   \n",
              "3                                      Archivo:Gnu head.png   \n",
              "4                                   Archivo:Gnu-head-sm.jpg   \n",
              "...                                                     ...   \n",
              "12188940                    Usuario:Magikyty23809pynpynfyte   \n",
              "12188942  Usuario discusión:2806:2F0:3140:BE0:C09B:D1C4:...   \n",
              "12188943                                  Usuario:Desiretjs   \n",
              "12188944                                       Contenedores   \n",
              "12188945                                 Usuario:Liza.amane   \n",
              "\n",
              "                tiempo_bloqueo  bloqueado  \n",
              "0         2010-12-15T13:07:57Z       True  \n",
              "1         2010-12-15T13:07:57Z       True  \n",
              "2         2010-12-15T13:07:57Z       True  \n",
              "3         2005-07-22T11:15:19Z       True  \n",
              "4         2005-07-22T11:15:19Z       True  \n",
              "...                        ...        ...  \n",
              "12188940                   NaN      False  \n",
              "12188942                   NaN      False  \n",
              "12188943                   NaN      False  \n",
              "12188944                   NaN      False  \n",
              "12188945                   NaN      False  \n",
              "\n",
              "[10622943 rows x 6 columns]"
            ],
            "text/html": [
              "\n",
              "  <div id=\"df-cdfbcea5-cc64-45e0-ad01-b919fd9f1381\">\n",
              "    <div class=\"colab-df-container\">\n",
              "      <div>\n",
              "<style scoped>\n",
              "    .dataframe tbody tr th:only-of-type {\n",
              "        vertical-align: middle;\n",
              "    }\n",
              "\n",
              "    .dataframe tbody tr th {\n",
              "        vertical-align: top;\n",
              "    }\n",
              "\n",
              "    .dataframe thead th {\n",
              "        text-align: right;\n",
              "    }\n",
              "</style>\n",
              "<table border=\"1\" class=\"dataframe\">\n",
              "  <thead>\n",
              "    <tr style=\"text-align: right;\">\n",
              "      <th></th>\n",
              "      <th>timestamp</th>\n",
              "      <th>username</th>\n",
              "      <th>action</th>\n",
              "      <th>title</th>\n",
              "      <th>tiempo_bloqueo</th>\n",
              "      <th>bloqueado</th>\n",
              "    </tr>\n",
              "  </thead>\n",
              "  <tbody>\n",
              "    <tr>\n",
              "      <th>0</th>\n",
              "      <td>2004-12-23T07:10:09Z</td>\n",
              "      <td>Sabbut</td>\n",
              "      <td>delete</td>\n",
              "      <td>Verificacionismo</td>\n",
              "      <td>2010-12-15T13:07:57Z</td>\n",
              "      <td>True</td>\n",
              "    </tr>\n",
              "    <tr>\n",
              "      <th>1</th>\n",
              "      <td>2004-12-23T07:14:09Z</td>\n",
              "      <td>Sabbut</td>\n",
              "      <td>delete</td>\n",
              "      <td>Rapunzel</td>\n",
              "      <td>2010-12-15T13:07:57Z</td>\n",
              "      <td>True</td>\n",
              "    </tr>\n",
              "    <tr>\n",
              "      <th>2</th>\n",
              "      <td>2004-12-23T07:26:10Z</td>\n",
              "      <td>Sabbut</td>\n",
              "      <td>delete</td>\n",
              "      <td>Macromedia Flash</td>\n",
              "      <td>2010-12-15T13:07:57Z</td>\n",
              "      <td>True</td>\n",
              "    </tr>\n",
              "    <tr>\n",
              "      <th>3</th>\n",
              "      <td>2004-12-23T07:55:09Z</td>\n",
              "      <td>Sanbec</td>\n",
              "      <td>delete</td>\n",
              "      <td>Archivo:Gnu head.png</td>\n",
              "      <td>2005-07-22T11:15:19Z</td>\n",
              "      <td>True</td>\n",
              "    </tr>\n",
              "    <tr>\n",
              "      <th>4</th>\n",
              "      <td>2004-12-23T08:02:22Z</td>\n",
              "      <td>Sanbec</td>\n",
              "      <td>delete</td>\n",
              "      <td>Archivo:Gnu-head-sm.jpg</td>\n",
              "      <td>2005-07-22T11:15:19Z</td>\n",
              "      <td>True</td>\n",
              "    </tr>\n",
              "    <tr>\n",
              "      <th>...</th>\n",
              "      <td>...</td>\n",
              "      <td>...</td>\n",
              "      <td>...</td>\n",
              "      <td>...</td>\n",
              "      <td>...</td>\n",
              "      <td>...</td>\n",
              "    </tr>\n",
              "    <tr>\n",
              "      <th>12188940</th>\n",
              "      <td>2021-09-03T03:08:58Z</td>\n",
              "      <td>Yosoytunotuyosoytuaaa</td>\n",
              "      <td>byemail</td>\n",
              "      <td>Usuario:Magikyty23809pynpynfyte</td>\n",
              "      <td>NaN</td>\n",
              "      <td>False</td>\n",
              "    </tr>\n",
              "    <tr>\n",
              "      <th>12188942</th>\n",
              "      <td>2021-09-03T03:09:48Z</td>\n",
              "      <td>Leonpolanco</td>\n",
              "      <td>create</td>\n",
              "      <td>Usuario discusión:2806:2F0:3140:BE0:C09B:D1C4:...</td>\n",
              "      <td>NaN</td>\n",
              "      <td>False</td>\n",
              "    </tr>\n",
              "    <tr>\n",
              "      <th>12188943</th>\n",
              "      <td>2021-09-03T03:09:49Z</td>\n",
              "      <td>Desiretjs</td>\n",
              "      <td>create</td>\n",
              "      <td>Usuario:Desiretjs</td>\n",
              "      <td>NaN</td>\n",
              "      <td>False</td>\n",
              "    </tr>\n",
              "    <tr>\n",
              "      <th>12188944</th>\n",
              "      <td>2021-09-03T03:10:33Z</td>\n",
              "      <td>Correogsk</td>\n",
              "      <td>create</td>\n",
              "      <td>Contenedores</td>\n",
              "      <td>NaN</td>\n",
              "      <td>False</td>\n",
              "    </tr>\n",
              "    <tr>\n",
              "      <th>12188945</th>\n",
              "      <td>2021-09-03T03:10:38Z</td>\n",
              "      <td>Liza.amane</td>\n",
              "      <td>create</td>\n",
              "      <td>Usuario:Liza.amane</td>\n",
              "      <td>NaN</td>\n",
              "      <td>False</td>\n",
              "    </tr>\n",
              "  </tbody>\n",
              "</table>\n",
              "<p>10622943 rows × 6 columns</p>\n",
              "</div>\n",
              "      <button class=\"colab-df-convert\" onclick=\"convertToInteractive('df-cdfbcea5-cc64-45e0-ad01-b919fd9f1381')\"\n",
              "              title=\"Convert this dataframe to an interactive table.\"\n",
              "              style=\"display:none;\">\n",
              "        \n",
              "  <svg xmlns=\"http://www.w3.org/2000/svg\" height=\"24px\"viewBox=\"0 0 24 24\"\n",
              "       width=\"24px\">\n",
              "    <path d=\"M0 0h24v24H0V0z\" fill=\"none\"/>\n",
              "    <path d=\"M18.56 5.44l.94 2.06.94-2.06 2.06-.94-2.06-.94-.94-2.06-.94 2.06-2.06.94zm-11 1L8.5 8.5l.94-2.06 2.06-.94-2.06-.94L8.5 2.5l-.94 2.06-2.06.94zm10 10l.94 2.06.94-2.06 2.06-.94-2.06-.94-.94-2.06-.94 2.06-2.06.94z\"/><path d=\"M17.41 7.96l-1.37-1.37c-.4-.4-.92-.59-1.43-.59-.52 0-1.04.2-1.43.59L10.3 9.45l-7.72 7.72c-.78.78-.78 2.05 0 2.83L4 21.41c.39.39.9.59 1.41.59.51 0 1.02-.2 1.41-.59l7.78-7.78 2.81-2.81c.8-.78.8-2.07 0-2.86zM5.41 20L4 18.59l7.72-7.72 1.47 1.35L5.41 20z\"/>\n",
              "  </svg>\n",
              "      </button>\n",
              "      \n",
              "  <style>\n",
              "    .colab-df-container {\n",
              "      display:flex;\n",
              "      flex-wrap:wrap;\n",
              "      gap: 12px;\n",
              "    }\n",
              "\n",
              "    .colab-df-convert {\n",
              "      background-color: #E8F0FE;\n",
              "      border: none;\n",
              "      border-radius: 50%;\n",
              "      cursor: pointer;\n",
              "      display: none;\n",
              "      fill: #1967D2;\n",
              "      height: 32px;\n",
              "      padding: 0 0 0 0;\n",
              "      width: 32px;\n",
              "    }\n",
              "\n",
              "    .colab-df-convert:hover {\n",
              "      background-color: #E2EBFA;\n",
              "      box-shadow: 0px 1px 2px rgba(60, 64, 67, 0.3), 0px 1px 3px 1px rgba(60, 64, 67, 0.15);\n",
              "      fill: #174EA6;\n",
              "    }\n",
              "\n",
              "    [theme=dark] .colab-df-convert {\n",
              "      background-color: #3B4455;\n",
              "      fill: #D2E3FC;\n",
              "    }\n",
              "\n",
              "    [theme=dark] .colab-df-convert:hover {\n",
              "      background-color: #434B5C;\n",
              "      box-shadow: 0px 1px 3px 1px rgba(0, 0, 0, 0.15);\n",
              "      filter: drop-shadow(0px 1px 2px rgba(0, 0, 0, 0.3));\n",
              "      fill: #FFFFFF;\n",
              "    }\n",
              "  </style>\n",
              "\n",
              "      <script>\n",
              "        const buttonEl =\n",
              "          document.querySelector('#df-cdfbcea5-cc64-45e0-ad01-b919fd9f1381 button.colab-df-convert');\n",
              "        buttonEl.style.display =\n",
              "          google.colab.kernel.accessAllowed ? 'block' : 'none';\n",
              "\n",
              "        async function convertToInteractive(key) {\n",
              "          const element = document.querySelector('#df-cdfbcea5-cc64-45e0-ad01-b919fd9f1381');\n",
              "          const dataTable =\n",
              "            await google.colab.kernel.invokeFunction('convertToInteractive',\n",
              "                                                     [key], {});\n",
              "          if (!dataTable) return;\n",
              "\n",
              "          const docLinkHtml = 'Like what you see? Visit the ' +\n",
              "            '<a target=\"_blank\" href=https://colab.research.google.com/notebooks/data_table.ipynb>data table notebook</a>'\n",
              "            + ' to learn more about interactive tables.';\n",
              "          element.innerHTML = '';\n",
              "          dataTable['output_type'] = 'display_data';\n",
              "          await google.colab.output.renderOutput(dataTable, element);\n",
              "          const docLink = document.createElement('div');\n",
              "          docLink.innerHTML = docLinkHtml;\n",
              "          element.appendChild(docLink);\n",
              "        }\n",
              "      </script>\n",
              "    </div>\n",
              "  </div>\n",
              "  "
            ]
          },
          "metadata": {},
          "execution_count": 35
        }
      ]
    },
    {
      "cell_type": "code",
      "source": [
        "df_total = df_total.groupby(['username'], as_index = False).agg({'action':'count','bloqueado':'first'})"
      ],
      "metadata": {
        "id": "rgLqT_G-g7iT"
      },
      "execution_count": null,
      "outputs": []
    },
    {
      "cell_type": "code",
      "source": [
        "df_total.sort_values(['action'])"
      ],
      "metadata": {
        "colab": {
          "base_uri": "https://localhost:8080/",
          "height": 424
        },
        "id": "4XRICDMfkxwP",
        "outputId": "98572200-7c50-4d9d-da0f-af819cbe87eb"
      },
      "execution_count": null,
      "outputs": [
        {
          "output_type": "execute_result",
          "data": {
            "text/plain": [
              "                                        username  action  bloqueado\n",
              "0        ! ! ! ! ! ! ! ! ! ! ! ! ! ! HAGGEⓇ? 123       1       True\n",
              "4092114                                Michi-kun       1      False\n",
              "4092113                                Michi-fcn       1      False\n",
              "4092112                               Michi-chan       1      False\n",
              "4092111                            Michi- Joseph       1      False\n",
              "...                                          ...     ...        ...\n",
              "2476345                                 Humberto  101765      False\n",
              "519056                                     Antur  112565      False\n",
              "2554497                       InternetArchiveBot  163770       True\n",
              "5531207                                   Taichi  193345      False\n",
              "3747401                       Maintenance script  379263      False\n",
              "\n",
              "[6188869 rows x 3 columns]"
            ],
            "text/html": [
              "\n",
              "  <div id=\"df-caf8aded-4197-4e94-a0ea-38c8a5a85c98\">\n",
              "    <div class=\"colab-df-container\">\n",
              "      <div>\n",
              "<style scoped>\n",
              "    .dataframe tbody tr th:only-of-type {\n",
              "        vertical-align: middle;\n",
              "    }\n",
              "\n",
              "    .dataframe tbody tr th {\n",
              "        vertical-align: top;\n",
              "    }\n",
              "\n",
              "    .dataframe thead th {\n",
              "        text-align: right;\n",
              "    }\n",
              "</style>\n",
              "<table border=\"1\" class=\"dataframe\">\n",
              "  <thead>\n",
              "    <tr style=\"text-align: right;\">\n",
              "      <th></th>\n",
              "      <th>username</th>\n",
              "      <th>action</th>\n",
              "      <th>bloqueado</th>\n",
              "    </tr>\n",
              "  </thead>\n",
              "  <tbody>\n",
              "    <tr>\n",
              "      <th>0</th>\n",
              "      <td>! ! ! ! ! ! ! ! ! ! ! ! ! ! HAGGEⓇ? 123</td>\n",
              "      <td>1</td>\n",
              "      <td>True</td>\n",
              "    </tr>\n",
              "    <tr>\n",
              "      <th>4092114</th>\n",
              "      <td>Michi-kun</td>\n",
              "      <td>1</td>\n",
              "      <td>False</td>\n",
              "    </tr>\n",
              "    <tr>\n",
              "      <th>4092113</th>\n",
              "      <td>Michi-fcn</td>\n",
              "      <td>1</td>\n",
              "      <td>False</td>\n",
              "    </tr>\n",
              "    <tr>\n",
              "      <th>4092112</th>\n",
              "      <td>Michi-chan</td>\n",
              "      <td>1</td>\n",
              "      <td>False</td>\n",
              "    </tr>\n",
              "    <tr>\n",
              "      <th>4092111</th>\n",
              "      <td>Michi- Joseph</td>\n",
              "      <td>1</td>\n",
              "      <td>False</td>\n",
              "    </tr>\n",
              "    <tr>\n",
              "      <th>...</th>\n",
              "      <td>...</td>\n",
              "      <td>...</td>\n",
              "      <td>...</td>\n",
              "    </tr>\n",
              "    <tr>\n",
              "      <th>2476345</th>\n",
              "      <td>Humberto</td>\n",
              "      <td>101765</td>\n",
              "      <td>False</td>\n",
              "    </tr>\n",
              "    <tr>\n",
              "      <th>519056</th>\n",
              "      <td>Antur</td>\n",
              "      <td>112565</td>\n",
              "      <td>False</td>\n",
              "    </tr>\n",
              "    <tr>\n",
              "      <th>2554497</th>\n",
              "      <td>InternetArchiveBot</td>\n",
              "      <td>163770</td>\n",
              "      <td>True</td>\n",
              "    </tr>\n",
              "    <tr>\n",
              "      <th>5531207</th>\n",
              "      <td>Taichi</td>\n",
              "      <td>193345</td>\n",
              "      <td>False</td>\n",
              "    </tr>\n",
              "    <tr>\n",
              "      <th>3747401</th>\n",
              "      <td>Maintenance script</td>\n",
              "      <td>379263</td>\n",
              "      <td>False</td>\n",
              "    </tr>\n",
              "  </tbody>\n",
              "</table>\n",
              "<p>6188869 rows × 3 columns</p>\n",
              "</div>\n",
              "      <button class=\"colab-df-convert\" onclick=\"convertToInteractive('df-caf8aded-4197-4e94-a0ea-38c8a5a85c98')\"\n",
              "              title=\"Convert this dataframe to an interactive table.\"\n",
              "              style=\"display:none;\">\n",
              "        \n",
              "  <svg xmlns=\"http://www.w3.org/2000/svg\" height=\"24px\"viewBox=\"0 0 24 24\"\n",
              "       width=\"24px\">\n",
              "    <path d=\"M0 0h24v24H0V0z\" fill=\"none\"/>\n",
              "    <path d=\"M18.56 5.44l.94 2.06.94-2.06 2.06-.94-2.06-.94-.94-2.06-.94 2.06-2.06.94zm-11 1L8.5 8.5l.94-2.06 2.06-.94-2.06-.94L8.5 2.5l-.94 2.06-2.06.94zm10 10l.94 2.06.94-2.06 2.06-.94-2.06-.94-.94-2.06-.94 2.06-2.06.94z\"/><path d=\"M17.41 7.96l-1.37-1.37c-.4-.4-.92-.59-1.43-.59-.52 0-1.04.2-1.43.59L10.3 9.45l-7.72 7.72c-.78.78-.78 2.05 0 2.83L4 21.41c.39.39.9.59 1.41.59.51 0 1.02-.2 1.41-.59l7.78-7.78 2.81-2.81c.8-.78.8-2.07 0-2.86zM5.41 20L4 18.59l7.72-7.72 1.47 1.35L5.41 20z\"/>\n",
              "  </svg>\n",
              "      </button>\n",
              "      \n",
              "  <style>\n",
              "    .colab-df-container {\n",
              "      display:flex;\n",
              "      flex-wrap:wrap;\n",
              "      gap: 12px;\n",
              "    }\n",
              "\n",
              "    .colab-df-convert {\n",
              "      background-color: #E8F0FE;\n",
              "      border: none;\n",
              "      border-radius: 50%;\n",
              "      cursor: pointer;\n",
              "      display: none;\n",
              "      fill: #1967D2;\n",
              "      height: 32px;\n",
              "      padding: 0 0 0 0;\n",
              "      width: 32px;\n",
              "    }\n",
              "\n",
              "    .colab-df-convert:hover {\n",
              "      background-color: #E2EBFA;\n",
              "      box-shadow: 0px 1px 2px rgba(60, 64, 67, 0.3), 0px 1px 3px 1px rgba(60, 64, 67, 0.15);\n",
              "      fill: #174EA6;\n",
              "    }\n",
              "\n",
              "    [theme=dark] .colab-df-convert {\n",
              "      background-color: #3B4455;\n",
              "      fill: #D2E3FC;\n",
              "    }\n",
              "\n",
              "    [theme=dark] .colab-df-convert:hover {\n",
              "      background-color: #434B5C;\n",
              "      box-shadow: 0px 1px 3px 1px rgba(0, 0, 0, 0.15);\n",
              "      filter: drop-shadow(0px 1px 2px rgba(0, 0, 0, 0.3));\n",
              "      fill: #FFFFFF;\n",
              "    }\n",
              "  </style>\n",
              "\n",
              "      <script>\n",
              "        const buttonEl =\n",
              "          document.querySelector('#df-caf8aded-4197-4e94-a0ea-38c8a5a85c98 button.colab-df-convert');\n",
              "        buttonEl.style.display =\n",
              "          google.colab.kernel.accessAllowed ? 'block' : 'none';\n",
              "\n",
              "        async function convertToInteractive(key) {\n",
              "          const element = document.querySelector('#df-caf8aded-4197-4e94-a0ea-38c8a5a85c98');\n",
              "          const dataTable =\n",
              "            await google.colab.kernel.invokeFunction('convertToInteractive',\n",
              "                                                     [key], {});\n",
              "          if (!dataTable) return;\n",
              "\n",
              "          const docLinkHtml = 'Like what you see? Visit the ' +\n",
              "            '<a target=\"_blank\" href=https://colab.research.google.com/notebooks/data_table.ipynb>data table notebook</a>'\n",
              "            + ' to learn more about interactive tables.';\n",
              "          element.innerHTML = '';\n",
              "          dataTable['output_type'] = 'display_data';\n",
              "          await google.colab.output.renderOutput(dataTable, element);\n",
              "          const docLink = document.createElement('div');\n",
              "          docLink.innerHTML = docLinkHtml;\n",
              "          element.appendChild(docLink);\n",
              "        }\n",
              "      </script>\n",
              "    </div>\n",
              "  </div>\n",
              "  "
            ]
          },
          "metadata": {},
          "execution_count": 39
        }
      ]
    },
    {
      "cell_type": "code",
      "source": [
        "def prob_ser_bloqueado_por_cant_logs(min, max):\n",
        "  cant_block = (df_total.loc[(df_total.bloqueado) & ( (min <= df_total.action) & (df_total.action < max)), 'action']).count()\n",
        "  cant_total = (df_total.loc[ (min <= df_total.action) & (df_total.action < max), 'action']).count()\n",
        "  return cant_block/cant_total"
      ],
      "metadata": {
        "id": "VArg9wS3k_Ng"
      },
      "execution_count": null,
      "outputs": []
    },
    {
      "cell_type": "code",
      "source": [
        "prob_ser_bloqueado_por_cant_logs(0,10)"
      ],
      "metadata": {
        "colab": {
          "base_uri": "https://localhost:8080/"
        },
        "id": "gWbqum4NtchO",
        "outputId": "49e3ba24-e879-4388-d90d-396827021bed"
      },
      "execution_count": null,
      "outputs": [
        {
          "output_type": "execute_result",
          "data": {
            "text/plain": [
              "0.015154709858636196"
            ]
          },
          "metadata": {},
          "execution_count": 69
        }
      ]
    },
    {
      "cell_type": "code",
      "source": [
        "prob_ser_bloqueado_por_cant_logs(10,40)"
      ],
      "metadata": {
        "colab": {
          "base_uri": "https://localhost:8080/"
        },
        "id": "BbfNuss8tdAF",
        "outputId": "3261a9b6-89b6-40e9-d329-8152e2bcb16c"
      },
      "execution_count": null,
      "outputs": [
        {
          "output_type": "execute_result",
          "data": {
            "text/plain": [
              "0.18572614107883817"
            ]
          },
          "metadata": {},
          "execution_count": 70
        }
      ]
    },
    {
      "cell_type": "code",
      "source": [
        "prob_ser_bloqueado_por_cant_logs(40,100)"
      ],
      "metadata": {
        "colab": {
          "base_uri": "https://localhost:8080/"
        },
        "id": "GyT9bJgItdg9",
        "outputId": "4df521d8-ae76-48ab-ea53-422d9b605336"
      },
      "execution_count": null,
      "outputs": [
        {
          "output_type": "execute_result",
          "data": {
            "text/plain": [
              "0.1730225988700565"
            ]
          },
          "metadata": {},
          "execution_count": 71
        }
      ]
    },
    {
      "cell_type": "code",
      "source": [
        "prob_ser_bloqueado_por_cant_logs(100,1000000000000)"
      ],
      "metadata": {
        "colab": {
          "base_uri": "https://localhost:8080/"
        },
        "id": "gpQE2Y-7td21",
        "outputId": "8c963111-30c2-4e52-cac4-26ba398793ae"
      },
      "execution_count": null,
      "outputs": [
        {
          "output_type": "execute_result",
          "data": {
            "text/plain": [
              "0.1753972925250147"
            ]
          },
          "metadata": {},
          "execution_count": 72
        }
      ]
    }
  ]
}