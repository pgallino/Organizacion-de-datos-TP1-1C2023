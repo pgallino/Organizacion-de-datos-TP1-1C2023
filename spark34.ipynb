{
  "nbformat": 4,
  "nbformat_minor": 0,
  "metadata": {
    "colab": {
      "provenance": [],
      "authorship_tag": "ABX9TyMnnAwgKV6Hb9/EgOq3QAcE",
      "include_colab_link": true
    },
    "kernelspec": {
      "name": "python3",
      "display_name": "Python 3"
    },
    "language_info": {
      "name": "python"
    }
  },
  "cells": [
    {
      "cell_type": "markdown",
      "metadata": {
        "id": "view-in-github",
        "colab_type": "text"
      },
      "source": [
        "<a href=\"https://colab.research.google.com/github/pgallino/Organizacion-de-datos-TP1-1C2023/blob/main/spark34.ipynb\" target=\"_parent\"><img src=\"https://colab.research.google.com/assets/colab-badge.svg\" alt=\"Open In Colab\"/></a>"
      ]
    },
    {
      "cell_type": "code",
      "execution_count": null,
      "metadata": {
        "colab": {
          "base_uri": "https://localhost:8080/"
        },
        "id": "E4C1DmhK2d5O",
        "outputId": "a8cef0bc-2b4f-48f5-aeb5-5fa73db5d5ba"
      },
      "outputs": [
        {
          "output_type": "stream",
          "name": "stdout",
          "text": [
            "Mounted at /content/drive\n"
          ]
        }
      ],
      "source": [
        "from google.colab import drive\n",
        "drive.mount('/content/drive')"
      ]
    },
    {
      "cell_type": "code",
      "source": [
        "!pip install pyspark\n",
        "!pip install -U -q PyDrive\n",
        "!apt install openjdk-8-jdk-headless -qq\n",
        "import os\n",
        "os.environ[\"JAVA_HOME\"] = \"/usr/lib/jvm/java-8-openjdk-amd64\""
      ],
      "metadata": {
        "id": "tDHckvcL9aJf"
      },
      "execution_count": null,
      "outputs": []
    },
    {
      "cell_type": "code",
      "source": [
        "from pydrive.auth import GoogleAuth\n",
        "from pydrive.drive import GoogleDrive\n",
        "from google.colab import auth\n",
        "from oauth2client.client import GoogleCredentials\n",
        "from pyspark.sql import *\n",
        "from pyspark.sql.functions import *\n",
        "from pyspark import SparkContext\n",
        "from pyspark.sql import SQLContext\n",
        "import pandas as pd"
      ],
      "metadata": {
        "id": "daDWopWP9pz9"
      },
      "execution_count": null,
      "outputs": []
    },
    {
      "cell_type": "code",
      "source": [
        "# create the Spark Session\n",
        "spark = SparkSession.builder.getOrCreate()\n",
        "\n",
        "# create the Spark Context\n",
        "sc = spark.sparkContext"
      ],
      "metadata": {
        "id": "Eozpeotm92il"
      },
      "execution_count": null,
      "outputs": []
    },
    {
      "cell_type": "code",
      "source": [
        "sqlContext = SQLContext(sc)\n",
        "df = sqlContext.read.csv('/content/drive/MyDrive/Wikipedia dataset 2c2021/logs.csv', header=True, inferSchema=True)\n",
        "rdd = df.rdd"
      ],
      "metadata": {
        "colab": {
          "base_uri": "https://localhost:8080/"
        },
        "id": "y5vwMR8BBIqS",
        "outputId": "be55986b-5ad5-44ad-87c4-2b0a528bf67f"
      },
      "execution_count": null,
      "outputs": [
        {
          "output_type": "stream",
          "name": "stderr",
          "text": [
            "/usr/local/lib/python3.10/dist-packages/pyspark/sql/context.py:112: FutureWarning: Deprecated in 3.0.0. Use SparkSession.builder.getOrCreate() instead.\n",
            "  warnings.warn(\n"
          ]
        }
      ]
    },
    {
      "cell_type": "markdown",
      "source": [
        "34 ¿Quién es el usuario que más ha bloqueado a otros? (⭐)"
      ],
      "metadata": {
        "id": "ce7YPg_1CIya"
      }
    },
    {
      "cell_type": "code",
      "source": [
        "rdd.count()"
      ],
      "metadata": {
        "colab": {
          "base_uri": "https://localhost:8080/"
        },
        "id": "fMKHZR0MClUA",
        "outputId": "aee72522-671c-4a5e-dbc0-443ce6f66340"
      },
      "execution_count": null,
      "outputs": [
        {
          "output_type": "execute_result",
          "data": {
            "text/plain": [
              "12203103"
            ]
          },
          "metadata": {},
          "execution_count": 7
        }
      ]
    },
    {
      "cell_type": "code",
      "source": [
        "rdd.take(5)"
      ],
      "metadata": {
        "colab": {
          "base_uri": "https://localhost:8080/"
        },
        "id": "jJpMkkQHDVkg",
        "outputId": "08cca8cc-e750-41c8-937f-274da5d13ed1"
      },
      "execution_count": null,
      "outputs": [
        {
          "output_type": "execute_result",
          "data": {
            "text/plain": [
              "[Row(item_id='1', timestamp='2004-12-23T07:10:09Z', contributor_username='Sabbut', contributor_id='2075', contributor_ip=None, comment=\"el contenido era: 'Si aprendés Pensamiento Científico ... TE VA S AENTERAR'\", logtype='delete', action='delete', title='Verificacionismo'),\n",
              " Row(item_id='2', timestamp='2004-12-23T07:14:09Z', contributor_username='Sabbut', contributor_id='2075', contributor_ip=None, comment=\"el contenido era: '{{destruir}}en algun lugar lejano pero tan cerca como el largo del cuello de una jirafa se encontraba una torre'\", logtype='delete', action='delete', title='Rapunzel'),\n",
              " Row(item_id='3', timestamp='2004-12-23T07:26:10Z', contributor_username='Sabbut', contributor_id='2075', contributor_ip=None, comment=\"el contenido era: '#REDIRECT [[Flash]]'\", logtype='delete', action='delete', title='Macromedia Flash'),\n",
              " Row(item_id='4', timestamp='2004-12-23T07:55:09Z', contributor_username='Sanbec', contributor_id='7856', contributor_ip=None, comment='Sin información de origen ni de licencia. Hay alternativas en commons', logtype='delete', action='delete', title='Archivo:Gnu head.png'),\n",
              " Row(item_id='5', timestamp='2004-12-23T08:02:22Z', contributor_username='Sanbec', contributor_id='7856', contributor_ip=None, comment='Sustituida por  [[commons:Image:Heckert_GNU.png]]', logtype='delete', action='delete', title='Archivo:Gnu-head-sm.jpg')]"
            ]
          },
          "metadata": {},
          "execution_count": 8
        }
      ]
    },
    {
      "cell_type": "markdown",
      "source": [
        "Me quedo con los registros de acción block."
      ],
      "metadata": {
        "id": "ajPcKrDkJtta"
      }
    },
    {
      "cell_type": "code",
      "source": [
        "rdd_blocks = rdd.filter(lambda x: x.action == 'block')"
      ],
      "metadata": {
        "id": "Z70ctG4QD93-"
      },
      "execution_count": null,
      "outputs": []
    },
    {
      "cell_type": "code",
      "source": [
        "rdd_blocks.count()"
      ],
      "metadata": {
        "colab": {
          "base_uri": "https://localhost:8080/"
        },
        "id": "_noE0bc5Fty9",
        "outputId": "328072df-922b-4f4a-f5c1-1a7fc6ea6af9"
      },
      "execution_count": null,
      "outputs": [
        {
          "output_type": "execute_result",
          "data": {
            "text/plain": [
              "342277"
            ]
          },
          "metadata": {},
          "execution_count": 19
        }
      ]
    },
    {
      "cell_type": "markdown",
      "source": [
        "Genero registros de la forma (username, 1) Para contar cuantos bloqueó cada usuario."
      ],
      "metadata": {
        "id": "onMtasn1LQ3i"
      }
    },
    {
      "cell_type": "code",
      "source": [
        "rdd_blocks = rdd_blocks.map(lambda x: (x.contributor_username, 1))"
      ],
      "metadata": {
        "id": "gZM6o0YdFHV-"
      },
      "execution_count": null,
      "outputs": []
    },
    {
      "cell_type": "markdown",
      "source": [
        "Con reduceByKey, sumo por key la cantidad de bloqueos."
      ],
      "metadata": {
        "id": "s4h-7wKnLcyp"
      }
    },
    {
      "cell_type": "code",
      "source": [
        "rdd_blocks = rdd_blocks.reduceByKey(lambda x,y : x+y)"
      ],
      "metadata": {
        "id": "yuw6QgLzHZrk"
      },
      "execution_count": null,
      "outputs": []
    },
    {
      "cell_type": "markdown",
      "source": [
        "Tomo ordenados los primeros 10."
      ],
      "metadata": {
        "id": "v9smnoDnLkgZ"
      }
    },
    {
      "cell_type": "code",
      "source": [
        "rdd_blocks.takeOrdered(10, lambda x: -x[1])"
      ],
      "metadata": {
        "colab": {
          "base_uri": "https://localhost:8080/"
        },
        "id": "e3nGQe4vH0HE",
        "outputId": "4e625ffd-ead5-4d44-d495-4bb4ba5d6995"
      },
      "execution_count": null,
      "outputs": [
        {
          "output_type": "execute_result",
          "data": {
            "text/plain": [
              "[('Magister Mathematicae', 29226),\n",
              " ('Montgomery', 18675),\n",
              " ('Taichi', 15833),\n",
              " ('LuchoCR', 13268),\n",
              " ('Antur', 12600),\n",
              " ('Ontzak', 11987),\n",
              " ('Marcelo', 9927),\n",
              " ('Netito777', 9212),\n",
              " ('Geom', 8955),\n",
              " ('RoyFocker', 8856)]"
            ]
          },
          "metadata": {},
          "execution_count": 22
        }
      ]
    },
    {
      "cell_type": "markdown",
      "source": [
        "Por lo que podemos ver que 'Magister Mathematicae' es el usuario que más bloqueo a otros, con 29226 bloqueos."
      ],
      "metadata": {
        "id": "-FZMvEi2H-X0"
      }
    }
  ]
}