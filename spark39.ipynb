{
  "nbformat": 4,
  "nbformat_minor": 0,
  "metadata": {
    "colab": {
      "provenance": [],
      "authorship_tag": "ABX9TyPafPajaYH+G/YWPop9MEHi",
      "include_colab_link": true
    },
    "kernelspec": {
      "name": "python3",
      "display_name": "Python 3"
    },
    "language_info": {
      "name": "python"
    }
  },
  "cells": [
    {
      "cell_type": "markdown",
      "metadata": {
        "id": "view-in-github",
        "colab_type": "text"
      },
      "source": [
        "<a href=\"https://colab.research.google.com/github/pgallino/Organizacion-de-datos-TP1-1C2023/blob/main/spark39.ipynb\" target=\"_parent\"><img src=\"https://colab.research.google.com/assets/colab-badge.svg\" alt=\"Open In Colab\"/></a>"
      ]
    },
    {
      "cell_type": "code",
      "execution_count": null,
      "metadata": {
        "id": "E4C1DmhK2d5O"
      },
      "outputs": [],
      "source": [
        "from google.colab import drive\n",
        "drive.mount('/content/drive')"
      ]
    },
    {
      "cell_type": "code",
      "source": [
        "!pip install pyspark\n",
        "!pip install -U -q PyDrive\n",
        "!apt install openjdk-8-jdk-headless -qq\n",
        "import os\n",
        "os.environ[\"JAVA_HOME\"] = \"/usr/lib/jvm/java-8-openjdk-amd64\""
      ],
      "metadata": {
        "id": "tDHckvcL9aJf"
      },
      "execution_count": null,
      "outputs": []
    },
    {
      "cell_type": "code",
      "source": [
        "from pydrive.auth import GoogleAuth\n",
        "from pydrive.drive import GoogleDrive\n",
        "from google.colab import auth\n",
        "from oauth2client.client import GoogleCredentials\n",
        "from pyspark.sql import *\n",
        "from pyspark.sql.functions import *\n",
        "from pyspark import SparkContext\n",
        "from pyspark.sql import SQLContext\n",
        "import pandas as pd"
      ],
      "metadata": {
        "id": "daDWopWP9pz9"
      },
      "execution_count": null,
      "outputs": []
    },
    {
      "cell_type": "code",
      "source": [
        "# create the Spark Session\n",
        "spark = SparkSession.builder.getOrCreate()\n",
        "\n",
        "# create the Spark Context\n",
        "sc = spark.sparkContext"
      ],
      "metadata": {
        "id": "Eozpeotm92il"
      },
      "execution_count": null,
      "outputs": []
    },
    {
      "cell_type": "code",
      "source": [
        "sqlContext = SQLContext(sc)\n",
        "df = sqlContext.read.csv('/content/drive/MyDrive/Wikipedia dataset 2c2021/logs.csv', header=True, inferSchema=True)\n",
        "rdd = df.rdd"
      ],
      "metadata": {
        "id": "y5vwMR8BBIqS"
      },
      "execution_count": null,
      "outputs": []
    },
    {
      "cell_type": "markdown",
      "source": [
        "39 ¿Cuál es la acción más realizada por usuarios que no están registrados? (⭐⭐)"
      ],
      "metadata": {
        "id": "ce7YPg_1CIya"
      }
    },
    {
      "cell_type": "markdown",
      "source": [
        "Me quedo con los que en el campo contributor_id tienen None, porque son los que no están registrados."
      ],
      "metadata": {
        "id": "GnZ2acwUN8MB"
      }
    },
    {
      "cell_type": "code",
      "source": [
        "rdd = rdd.filter(lambda x: x.contributor_id == None)"
      ],
      "metadata": {
        "id": "egchVRGdJkIy"
      },
      "execution_count": null,
      "outputs": []
    },
    {
      "cell_type": "code",
      "source": [
        "rdd.take(10)"
      ],
      "metadata": {
        "colab": {
          "base_uri": "https://localhost:8080/"
        },
        "id": "zUhdItCEKV0R",
        "outputId": "72f915f5-6ecb-4e2d-ff9e-2a63e8938607"
      },
      "execution_count": null,
      "outputs": [
        {
          "output_type": "execute_result",
          "data": {
            "text/plain": [
              "[Row(item_id='Tomada por [[Usuario:Alexwing|Alexwing]] 6 de Diciembre 2004', timestamp=None, contributor_username=None, contributor_id=None, contributor_ip=None, comment=None, logtype=None, action=None, title=None),\n",
              " Row(item_id='©1996/2005 - Rock&Web S.A.', timestamp=None, contributor_username=None, contributor_id=None, contributor_ip=None, comment=None, logtype=None, action=None, title=None),\n",
              " Row(item_id='{{GFDL}}', timestamp=None, contributor_username=None, contributor_id=None, contributor_ip=None, comment=None, logtype=None, action=None, title=None),\n",
              " Row(item_id='{{GFDL}}', timestamp=None, contributor_username=None, contributor_id=None, contributor_ip=None, comment=None, logtype=None, action=None, title=None),\n",
              " Row(item_id='{{GFDL}}', timestamp=None, contributor_username=None, contributor_id=None, contributor_ip=None, comment=None, logtype=None, action=None, title=None),\n",
              " Row(item_id='{{GFDL}}', timestamp=None, contributor_username=None, contributor_id=None, contributor_ip=None, comment=None, logtype=None, action=None, title=None),\n",
              " Row(item_id='[[:es:Imagen:Sanmarinogprix.png]]', timestamp=None, contributor_username=None, contributor_id=None, contributor_ip=None, comment=None, logtype=None, action=None, title=None),\n",
              " Row(item_id='{{GFDL}}', timestamp=None, contributor_username=None, contributor_id=None, contributor_ip=None, comment=None, logtype=None, action=None, title=None),\n",
              " Row(item_id='[[en:Imagen:Spanishgprix.png]]', timestamp=None, contributor_username=None, contributor_id=None, contributor_ip=None, comment=None, logtype=None, action=None, title=None),\n",
              " Row(item_id='[[:en:User:MykReeve|Michael Reeve]]', timestamp=' 13 de marzo de 2004.', contributor_username=None, contributor_id=None, contributor_ip=None, comment=None, logtype=None, action=None, title=None)]"
            ]
          },
          "metadata": {},
          "execution_count": 11
        }
      ]
    },
    {
      "cell_type": "markdown",
      "source": [
        "Armo registros (accion, 1) para contar por key"
      ],
      "metadata": {
        "id": "lP7aCyj6PVLa"
      }
    },
    {
      "cell_type": "code",
      "source": [
        "rdd = rdd.map(lambda x: (x.action, 1))"
      ],
      "metadata": {
        "id": "K7y0cCxDKtuY"
      },
      "execution_count": null,
      "outputs": []
    },
    {
      "cell_type": "code",
      "source": [
        "rdd = rdd.reduceByKey(lambda x,y : x+y)"
      ],
      "metadata": {
        "id": "1Z0y9iyDK2Xo"
      },
      "execution_count": null,
      "outputs": []
    },
    {
      "cell_type": "markdown",
      "source": [
        "Tomo las acciones más realizadas"
      ],
      "metadata": {
        "id": "11bBOsx8PauR"
      }
    },
    {
      "cell_type": "code",
      "source": [
        "rdd.takeOrdered(10, lambda x: -x[1])"
      ],
      "metadata": {
        "colab": {
          "base_uri": "https://localhost:8080/"
        },
        "id": "YXwPTLn9K4_I",
        "outputId": "8b92ca1d-1dc1-49af-9ee3-e4f6e187d701"
      },
      "execution_count": null,
      "outputs": [
        {
          "output_type": "execute_result",
          "data": {
            "text/plain": [
              "[('create', 123902),\n",
              " (None, 8998),\n",
              " ('autocreate', 239),\n",
              " ('delete', 101),\n",
              " ('block', 50),\n",
              " ('revision', 36),\n",
              " ('protect', 22),\n",
              " ('event', 17),\n",
              " ('create2', 16),\n",
              " (' 173);\"\" class=\"\"\"\" | ali…»\"', 13)]"
            ]
          },
          "metadata": {},
          "execution_count": 14
        }
      ]
    },
    {
      "cell_type": "markdown",
      "source": [
        "Por lo que podemos ver que el máximo es create con 123902"
      ],
      "metadata": {
        "id": "__leVLMtLxTn"
      }
    },
    {
      "cell_type": "markdown",
      "source": [
        "El valor es similar al obtenido por pandas en el ejercicio 54."
      ],
      "metadata": {
        "id": "P05PyfUnNqei"
      }
    }
  ]
}