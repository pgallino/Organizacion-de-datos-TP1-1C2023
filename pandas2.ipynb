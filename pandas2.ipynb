{
  "nbformat": 4,
  "nbformat_minor": 0,
  "metadata": {
    "colab": {
      "provenance": [],
      "authorship_tag": "ABX9TyMAhfTeMF6IGh/SitluNZ/M",
      "include_colab_link": true
    },
    "kernelspec": {
      "name": "python3",
      "display_name": "Python 3"
    },
    "language_info": {
      "name": "python"
    }
  },
  "cells": [
    {
      "cell_type": "markdown",
      "metadata": {
        "id": "view-in-github",
        "colab_type": "text"
      },
      "source": [
        "<a href=\"https://colab.research.google.com/github/pgallino/Organizacion-de-datos-TP1-1C2023/blob/main/pandas2.ipynb\" target=\"_parent\"><img src=\"https://colab.research.google.com/assets/colab-badge.svg\" alt=\"Open In Colab\"/></a>"
      ]
    },
    {
      "cell_type": "code",
      "execution_count": null,
      "metadata": {
        "id": "FUpwTlM7e52m"
      },
      "outputs": [],
      "source": [
        "import pandas as pd"
      ]
    },
    {
      "cell_type": "code",
      "source": [
        "from google.colab import drive\n",
        "drive.mount('/content/drive')"
      ],
      "metadata": {
        "colab": {
          "base_uri": "https://localhost:8080/"
        },
        "id": "_oJAiA58fAXm",
        "outputId": "e4078fee-751c-445b-ced6-ece2ee8fd0cf"
      },
      "execution_count": null,
      "outputs": [
        {
          "output_type": "stream",
          "name": "stdout",
          "text": [
            "Mounted at /content/drive\n"
          ]
        }
      ]
    },
    {
      "cell_type": "markdown",
      "source": [
        "PANDAS\n",
        "\n",
        "2) ¿Qué porcentaje de las versiones actuales son páginas que se editaron una sola vez? (⭐)"
      ],
      "metadata": {
        "id": "bAai55T_fGJ9"
      }
    },
    {
      "cell_type": "markdown",
      "source": [
        "Leo el csv, ya lo vi previamente y solo necesito las columnas correspondientes a id, revision_id y parent_revision."
      ],
      "metadata": {
        "id": "CaG90P1jfL11"
      }
    },
    {
      "cell_type": "code",
      "source": [
        "df_contents = pd.read_csv('/content/drive/MyDrive/Wikipedia dataset 2c2021/contents.csv')\n",
        "df_contents.head(10)"
      ],
      "metadata": {
        "colab": {
          "base_uri": "https://localhost:8080/",
          "height": 563
        },
        "id": "RW05pTwxfHRd",
        "outputId": "30e00885-8f66-4d33-f36a-39129bb1d44e"
      },
      "execution_count": null,
      "outputs": [
        {
          "output_type": "execute_result",
          "data": {
            "text/plain": [
              "                             title  id  namespace  revision_id  \\\n",
              "0  Wikipedia:Artículos solicitados   5          4    132533307   \n",
              "1                          Andorra   7          0    138035057   \n",
              "2                        Argentina  10          0    137966826   \n",
              "3             Geografía de Andorra  15          0    137986788   \n",
              "4            Demografía de Andorra  17          0    130869554   \n",
              "5        Comunicaciones de Andorra  18          0    132654704   \n",
              "6                   Artes visuales  19          0    138035407   \n",
              "7                      Agricultura  20          0    138023408   \n",
              "8             Astronomía galáctica  22          0    134653454   \n",
              "9                            ASCII  23          0    137833249   \n",
              "\n",
              "   parent_revision    revision_timestamp revisor_username  revisor_id  \\\n",
              "0      132516631.0  2021-01-19T18:40:34Z        Metrónomo   1708233.0   \n",
              "1      138027475.0  2021-08-31T18:27:01Z              NaN         NaN   \n",
              "2      137825165.0  2021-08-28T17:17:54Z        Traitrich   4642283.0   \n",
              "3      133666383.0  2021-08-29T17:16:00Z            Lojwe   5338508.0   \n",
              "4      129413188.0  2020-11-12T19:56:15Z           Jialxv   3615366.0   \n",
              "5      125753476.0  2021-01-24T13:33:34Z    PatriHorrillo    689866.0   \n",
              "6      138035406.0  2021-08-31T18:45:28Z          SeroBOT   4980693.0   \n",
              "7      137909816.0  2021-08-31T04:43:18Z         Arctos71   6331749.0   \n",
              "8      120853916.0  2021-04-10T07:54:41Z          LOLAOMI   6048511.0   \n",
              "9      137833185.0  2021-08-22T16:18:01Z             Jkbw    936194.0   \n",
              "\n",
              "                               revisor_ip  \\\n",
              "0                                     NaN   \n",
              "1  2800:CD0:FC1B:A900:C5A4:9E81:7175:2ED2   \n",
              "2                                     NaN   \n",
              "3                                     NaN   \n",
              "4                                     NaN   \n",
              "5                                     NaN   \n",
              "6                                     NaN   \n",
              "7                                     NaN   \n",
              "8                                     NaN   \n",
              "9                                     NaN   \n",
              "\n",
              "                                     revisor_comment  \n",
              "0                                     Así esta mejor  \n",
              "1                                   Añadir contenido  \n",
              "2  Reemplazos con [[Usuario:Benjavalero/Replacer|...  \n",
              "3  Reemplazos con [[Usuario:Benjavalero/Replacer|...  \n",
              "4  Correcciones ortográficas con [[Usuario:Benjav...  \n",
              "5  Correcciones ortográficas con [[Usuario:Benjav...  \n",
              "6  Revertidos los cambios de [[Special:Contributi...  \n",
              "7                                                NaN  \n",
              "8  Correcciones ortográficas con [[Usuario:Benjav...  \n",
              "9  Revertidos los cambios de [[Special:Contributi...  "
            ],
            "text/html": [
              "\n",
              "  <div id=\"df-481f3d00-11b9-49ec-8cc4-6ee9dd9ace93\">\n",
              "    <div class=\"colab-df-container\">\n",
              "      <div>\n",
              "<style scoped>\n",
              "    .dataframe tbody tr th:only-of-type {\n",
              "        vertical-align: middle;\n",
              "    }\n",
              "\n",
              "    .dataframe tbody tr th {\n",
              "        vertical-align: top;\n",
              "    }\n",
              "\n",
              "    .dataframe thead th {\n",
              "        text-align: right;\n",
              "    }\n",
              "</style>\n",
              "<table border=\"1\" class=\"dataframe\">\n",
              "  <thead>\n",
              "    <tr style=\"text-align: right;\">\n",
              "      <th></th>\n",
              "      <th>title</th>\n",
              "      <th>id</th>\n",
              "      <th>namespace</th>\n",
              "      <th>revision_id</th>\n",
              "      <th>parent_revision</th>\n",
              "      <th>revision_timestamp</th>\n",
              "      <th>revisor_username</th>\n",
              "      <th>revisor_id</th>\n",
              "      <th>revisor_ip</th>\n",
              "      <th>revisor_comment</th>\n",
              "    </tr>\n",
              "  </thead>\n",
              "  <tbody>\n",
              "    <tr>\n",
              "      <th>0</th>\n",
              "      <td>Wikipedia:Artículos solicitados</td>\n",
              "      <td>5</td>\n",
              "      <td>4</td>\n",
              "      <td>132533307</td>\n",
              "      <td>132516631.0</td>\n",
              "      <td>2021-01-19T18:40:34Z</td>\n",
              "      <td>Metrónomo</td>\n",
              "      <td>1708233.0</td>\n",
              "      <td>NaN</td>\n",
              "      <td>Así esta mejor</td>\n",
              "    </tr>\n",
              "    <tr>\n",
              "      <th>1</th>\n",
              "      <td>Andorra</td>\n",
              "      <td>7</td>\n",
              "      <td>0</td>\n",
              "      <td>138035057</td>\n",
              "      <td>138027475.0</td>\n",
              "      <td>2021-08-31T18:27:01Z</td>\n",
              "      <td>NaN</td>\n",
              "      <td>NaN</td>\n",
              "      <td>2800:CD0:FC1B:A900:C5A4:9E81:7175:2ED2</td>\n",
              "      <td>Añadir contenido</td>\n",
              "    </tr>\n",
              "    <tr>\n",
              "      <th>2</th>\n",
              "      <td>Argentina</td>\n",
              "      <td>10</td>\n",
              "      <td>0</td>\n",
              "      <td>137966826</td>\n",
              "      <td>137825165.0</td>\n",
              "      <td>2021-08-28T17:17:54Z</td>\n",
              "      <td>Traitrich</td>\n",
              "      <td>4642283.0</td>\n",
              "      <td>NaN</td>\n",
              "      <td>Reemplazos con [[Usuario:Benjavalero/Replacer|...</td>\n",
              "    </tr>\n",
              "    <tr>\n",
              "      <th>3</th>\n",
              "      <td>Geografía de Andorra</td>\n",
              "      <td>15</td>\n",
              "      <td>0</td>\n",
              "      <td>137986788</td>\n",
              "      <td>133666383.0</td>\n",
              "      <td>2021-08-29T17:16:00Z</td>\n",
              "      <td>Lojwe</td>\n",
              "      <td>5338508.0</td>\n",
              "      <td>NaN</td>\n",
              "      <td>Reemplazos con [[Usuario:Benjavalero/Replacer|...</td>\n",
              "    </tr>\n",
              "    <tr>\n",
              "      <th>4</th>\n",
              "      <td>Demografía de Andorra</td>\n",
              "      <td>17</td>\n",
              "      <td>0</td>\n",
              "      <td>130869554</td>\n",
              "      <td>129413188.0</td>\n",
              "      <td>2020-11-12T19:56:15Z</td>\n",
              "      <td>Jialxv</td>\n",
              "      <td>3615366.0</td>\n",
              "      <td>NaN</td>\n",
              "      <td>Correcciones ortográficas con [[Usuario:Benjav...</td>\n",
              "    </tr>\n",
              "    <tr>\n",
              "      <th>5</th>\n",
              "      <td>Comunicaciones de Andorra</td>\n",
              "      <td>18</td>\n",
              "      <td>0</td>\n",
              "      <td>132654704</td>\n",
              "      <td>125753476.0</td>\n",
              "      <td>2021-01-24T13:33:34Z</td>\n",
              "      <td>PatriHorrillo</td>\n",
              "      <td>689866.0</td>\n",
              "      <td>NaN</td>\n",
              "      <td>Correcciones ortográficas con [[Usuario:Benjav...</td>\n",
              "    </tr>\n",
              "    <tr>\n",
              "      <th>6</th>\n",
              "      <td>Artes visuales</td>\n",
              "      <td>19</td>\n",
              "      <td>0</td>\n",
              "      <td>138035407</td>\n",
              "      <td>138035406.0</td>\n",
              "      <td>2021-08-31T18:45:28Z</td>\n",
              "      <td>SeroBOT</td>\n",
              "      <td>4980693.0</td>\n",
              "      <td>NaN</td>\n",
              "      <td>Revertidos los cambios de [[Special:Contributi...</td>\n",
              "    </tr>\n",
              "    <tr>\n",
              "      <th>7</th>\n",
              "      <td>Agricultura</td>\n",
              "      <td>20</td>\n",
              "      <td>0</td>\n",
              "      <td>138023408</td>\n",
              "      <td>137909816.0</td>\n",
              "      <td>2021-08-31T04:43:18Z</td>\n",
              "      <td>Arctos71</td>\n",
              "      <td>6331749.0</td>\n",
              "      <td>NaN</td>\n",
              "      <td>NaN</td>\n",
              "    </tr>\n",
              "    <tr>\n",
              "      <th>8</th>\n",
              "      <td>Astronomía galáctica</td>\n",
              "      <td>22</td>\n",
              "      <td>0</td>\n",
              "      <td>134653454</td>\n",
              "      <td>120853916.0</td>\n",
              "      <td>2021-04-10T07:54:41Z</td>\n",
              "      <td>LOLAOMI</td>\n",
              "      <td>6048511.0</td>\n",
              "      <td>NaN</td>\n",
              "      <td>Correcciones ortográficas con [[Usuario:Benjav...</td>\n",
              "    </tr>\n",
              "    <tr>\n",
              "      <th>9</th>\n",
              "      <td>ASCII</td>\n",
              "      <td>23</td>\n",
              "      <td>0</td>\n",
              "      <td>137833249</td>\n",
              "      <td>137833185.0</td>\n",
              "      <td>2021-08-22T16:18:01Z</td>\n",
              "      <td>Jkbw</td>\n",
              "      <td>936194.0</td>\n",
              "      <td>NaN</td>\n",
              "      <td>Revertidos los cambios de [[Special:Contributi...</td>\n",
              "    </tr>\n",
              "  </tbody>\n",
              "</table>\n",
              "</div>\n",
              "      <button class=\"colab-df-convert\" onclick=\"convertToInteractive('df-481f3d00-11b9-49ec-8cc4-6ee9dd9ace93')\"\n",
              "              title=\"Convert this dataframe to an interactive table.\"\n",
              "              style=\"display:none;\">\n",
              "        \n",
              "  <svg xmlns=\"http://www.w3.org/2000/svg\" height=\"24px\"viewBox=\"0 0 24 24\"\n",
              "       width=\"24px\">\n",
              "    <path d=\"M0 0h24v24H0V0z\" fill=\"none\"/>\n",
              "    <path d=\"M18.56 5.44l.94 2.06.94-2.06 2.06-.94-2.06-.94-.94-2.06-.94 2.06-2.06.94zm-11 1L8.5 8.5l.94-2.06 2.06-.94-2.06-.94L8.5 2.5l-.94 2.06-2.06.94zm10 10l.94 2.06.94-2.06 2.06-.94-2.06-.94-.94-2.06-.94 2.06-2.06.94z\"/><path d=\"M17.41 7.96l-1.37-1.37c-.4-.4-.92-.59-1.43-.59-.52 0-1.04.2-1.43.59L10.3 9.45l-7.72 7.72c-.78.78-.78 2.05 0 2.83L4 21.41c.39.39.9.59 1.41.59.51 0 1.02-.2 1.41-.59l7.78-7.78 2.81-2.81c.8-.78.8-2.07 0-2.86zM5.41 20L4 18.59l7.72-7.72 1.47 1.35L5.41 20z\"/>\n",
              "  </svg>\n",
              "      </button>\n",
              "      \n",
              "  <style>\n",
              "    .colab-df-container {\n",
              "      display:flex;\n",
              "      flex-wrap:wrap;\n",
              "      gap: 12px;\n",
              "    }\n",
              "\n",
              "    .colab-df-convert {\n",
              "      background-color: #E8F0FE;\n",
              "      border: none;\n",
              "      border-radius: 50%;\n",
              "      cursor: pointer;\n",
              "      display: none;\n",
              "      fill: #1967D2;\n",
              "      height: 32px;\n",
              "      padding: 0 0 0 0;\n",
              "      width: 32px;\n",
              "    }\n",
              "\n",
              "    .colab-df-convert:hover {\n",
              "      background-color: #E2EBFA;\n",
              "      box-shadow: 0px 1px 2px rgba(60, 64, 67, 0.3), 0px 1px 3px 1px rgba(60, 64, 67, 0.15);\n",
              "      fill: #174EA6;\n",
              "    }\n",
              "\n",
              "    [theme=dark] .colab-df-convert {\n",
              "      background-color: #3B4455;\n",
              "      fill: #D2E3FC;\n",
              "    }\n",
              "\n",
              "    [theme=dark] .colab-df-convert:hover {\n",
              "      background-color: #434B5C;\n",
              "      box-shadow: 0px 1px 3px 1px rgba(0, 0, 0, 0.15);\n",
              "      filter: drop-shadow(0px 1px 2px rgba(0, 0, 0, 0.3));\n",
              "      fill: #FFFFFF;\n",
              "    }\n",
              "  </style>\n",
              "\n",
              "      <script>\n",
              "        const buttonEl =\n",
              "          document.querySelector('#df-481f3d00-11b9-49ec-8cc4-6ee9dd9ace93 button.colab-df-convert');\n",
              "        buttonEl.style.display =\n",
              "          google.colab.kernel.accessAllowed ? 'block' : 'none';\n",
              "\n",
              "        async function convertToInteractive(key) {\n",
              "          const element = document.querySelector('#df-481f3d00-11b9-49ec-8cc4-6ee9dd9ace93');\n",
              "          const dataTable =\n",
              "            await google.colab.kernel.invokeFunction('convertToInteractive',\n",
              "                                                     [key], {});\n",
              "          if (!dataTable) return;\n",
              "\n",
              "          const docLinkHtml = 'Like what you see? Visit the ' +\n",
              "            '<a target=\"_blank\" href=https://colab.research.google.com/notebooks/data_table.ipynb>data table notebook</a>'\n",
              "            + ' to learn more about interactive tables.';\n",
              "          element.innerHTML = '';\n",
              "          dataTable['output_type'] = 'display_data';\n",
              "          await google.colab.output.renderOutput(dataTable, element);\n",
              "          const docLink = document.createElement('div');\n",
              "          docLink.innerHTML = docLinkHtml;\n",
              "          element.appendChild(docLink);\n",
              "        }\n",
              "      </script>\n",
              "    </div>\n",
              "  </div>\n",
              "  "
            ]
          },
          "metadata": {},
          "execution_count": 3
        }
      ]
    },
    {
      "cell_type": "markdown",
      "source": [
        "Si ya tuvo una revisión y no tiene parent_revision, quiere decir que solo tuvo una revisión. Agrego una columna indicando true, si tuvo una sola revisión."
      ],
      "metadata": {
        "id": "U7McEQZTfQiN"
      }
    },
    {
      "cell_type": "code",
      "source": [
        "total = df_contents['revision_id'].count()\n",
        "una_rev = total - df_contents['parent_revision'].count()\n",
        "porcentaje = (una_rev / total) * 100"
      ],
      "metadata": {
        "id": "ukVhjC3XzINp"
      },
      "execution_count": null,
      "outputs": []
    },
    {
      "cell_type": "code",
      "source": [
        "porcentaje"
      ],
      "metadata": {
        "colab": {
          "base_uri": "https://localhost:8080/"
        },
        "id": "mgT4VKeb0NBg",
        "outputId": "81823b2f-6218-4b5f-c281-dc32a5bd089c"
      },
      "execution_count": null,
      "outputs": [
        {
          "output_type": "execute_result",
          "data": {
            "text/plain": [
              "35.89446111044963"
            ]
          },
          "metadata": {},
          "execution_count": 5
        }
      ]
    },
    {
      "cell_type": "markdown",
      "source": [
        "ACA CORREGÍ, CON DOS COUNT LO RESOLVÍ."
      ],
      "metadata": {
        "id": "DRQDrV3A0lKh"
      }
    },
    {
      "cell_type": "code",
      "source": [
        "df_contents['1_revision'] = (~(df_contents['revision_id'].isnull()) & (df_contents['parent_revision'].isnull()))"
      ],
      "metadata": {
        "id": "mpsZoPwAfOLd"
      },
      "execution_count": null,
      "outputs": []
    },
    {
      "cell_type": "markdown",
      "source": [
        "Cuento todos los que tuvieron una sola revisión y los que no.\n",
        "\n"
      ],
      "metadata": {
        "id": "SGRrmYvwZhII"
      }
    },
    {
      "cell_type": "code",
      "source": [
        "df_una_revision = df_contents.groupby([\"1_revision\"]).count()"
      ],
      "metadata": {
        "id": "zD5VVEs_fSpm"
      },
      "execution_count": null,
      "outputs": []
    },
    {
      "cell_type": "markdown",
      "source": [
        "Me queda un dataframe, con índice 1_revisión (true/false) indicando la cantidad de páginas con una revisión y la cantidad que no tienen o tienen más de una. Esta cantidad puedo verla en la columna 'id'"
      ],
      "metadata": {
        "id": "osBWQb5qaRAr"
      }
    },
    {
      "cell_type": "code",
      "source": [
        "df_una_revision"
      ],
      "metadata": {
        "colab": {
          "base_uri": "https://localhost:8080/",
          "height": 143
        },
        "id": "LoRkFC9fZwSA",
        "outputId": "2e8ea88d-1e24-4dd5-d704-671ae4a794b8"
      },
      "execution_count": null,
      "outputs": [
        {
          "output_type": "execute_result",
          "data": {
            "text/plain": [
              "                 id  revision_id  parent_revision\n",
              "1_revision                                       \n",
              "False       2648946      2648946          2648946\n",
              "True        1483218      1483218                0"
            ],
            "text/html": [
              "\n",
              "  <div id=\"df-a04ee6bb-1112-4434-a51a-d95b673acf35\">\n",
              "    <div class=\"colab-df-container\">\n",
              "      <div>\n",
              "<style scoped>\n",
              "    .dataframe tbody tr th:only-of-type {\n",
              "        vertical-align: middle;\n",
              "    }\n",
              "\n",
              "    .dataframe tbody tr th {\n",
              "        vertical-align: top;\n",
              "    }\n",
              "\n",
              "    .dataframe thead th {\n",
              "        text-align: right;\n",
              "    }\n",
              "</style>\n",
              "<table border=\"1\" class=\"dataframe\">\n",
              "  <thead>\n",
              "    <tr style=\"text-align: right;\">\n",
              "      <th></th>\n",
              "      <th>id</th>\n",
              "      <th>revision_id</th>\n",
              "      <th>parent_revision</th>\n",
              "    </tr>\n",
              "    <tr>\n",
              "      <th>1_revision</th>\n",
              "      <th></th>\n",
              "      <th></th>\n",
              "      <th></th>\n",
              "    </tr>\n",
              "  </thead>\n",
              "  <tbody>\n",
              "    <tr>\n",
              "      <th>False</th>\n",
              "      <td>2648946</td>\n",
              "      <td>2648946</td>\n",
              "      <td>2648946</td>\n",
              "    </tr>\n",
              "    <tr>\n",
              "      <th>True</th>\n",
              "      <td>1483218</td>\n",
              "      <td>1483218</td>\n",
              "      <td>0</td>\n",
              "    </tr>\n",
              "  </tbody>\n",
              "</table>\n",
              "</div>\n",
              "      <button class=\"colab-df-convert\" onclick=\"convertToInteractive('df-a04ee6bb-1112-4434-a51a-d95b673acf35')\"\n",
              "              title=\"Convert this dataframe to an interactive table.\"\n",
              "              style=\"display:none;\">\n",
              "        \n",
              "  <svg xmlns=\"http://www.w3.org/2000/svg\" height=\"24px\"viewBox=\"0 0 24 24\"\n",
              "       width=\"24px\">\n",
              "    <path d=\"M0 0h24v24H0V0z\" fill=\"none\"/>\n",
              "    <path d=\"M18.56 5.44l.94 2.06.94-2.06 2.06-.94-2.06-.94-.94-2.06-.94 2.06-2.06.94zm-11 1L8.5 8.5l.94-2.06 2.06-.94-2.06-.94L8.5 2.5l-.94 2.06-2.06.94zm10 10l.94 2.06.94-2.06 2.06-.94-2.06-.94-.94-2.06-.94 2.06-2.06.94z\"/><path d=\"M17.41 7.96l-1.37-1.37c-.4-.4-.92-.59-1.43-.59-.52 0-1.04.2-1.43.59L10.3 9.45l-7.72 7.72c-.78.78-.78 2.05 0 2.83L4 21.41c.39.39.9.59 1.41.59.51 0 1.02-.2 1.41-.59l7.78-7.78 2.81-2.81c.8-.78.8-2.07 0-2.86zM5.41 20L4 18.59l7.72-7.72 1.47 1.35L5.41 20z\"/>\n",
              "  </svg>\n",
              "      </button>\n",
              "      \n",
              "  <style>\n",
              "    .colab-df-container {\n",
              "      display:flex;\n",
              "      flex-wrap:wrap;\n",
              "      gap: 12px;\n",
              "    }\n",
              "\n",
              "    .colab-df-convert {\n",
              "      background-color: #E8F0FE;\n",
              "      border: none;\n",
              "      border-radius: 50%;\n",
              "      cursor: pointer;\n",
              "      display: none;\n",
              "      fill: #1967D2;\n",
              "      height: 32px;\n",
              "      padding: 0 0 0 0;\n",
              "      width: 32px;\n",
              "    }\n",
              "\n",
              "    .colab-df-convert:hover {\n",
              "      background-color: #E2EBFA;\n",
              "      box-shadow: 0px 1px 2px rgba(60, 64, 67, 0.3), 0px 1px 3px 1px rgba(60, 64, 67, 0.15);\n",
              "      fill: #174EA6;\n",
              "    }\n",
              "\n",
              "    [theme=dark] .colab-df-convert {\n",
              "      background-color: #3B4455;\n",
              "      fill: #D2E3FC;\n",
              "    }\n",
              "\n",
              "    [theme=dark] .colab-df-convert:hover {\n",
              "      background-color: #434B5C;\n",
              "      box-shadow: 0px 1px 3px 1px rgba(0, 0, 0, 0.15);\n",
              "      filter: drop-shadow(0px 1px 2px rgba(0, 0, 0, 0.3));\n",
              "      fill: #FFFFFF;\n",
              "    }\n",
              "  </style>\n",
              "\n",
              "      <script>\n",
              "        const buttonEl =\n",
              "          document.querySelector('#df-a04ee6bb-1112-4434-a51a-d95b673acf35 button.colab-df-convert');\n",
              "        buttonEl.style.display =\n",
              "          google.colab.kernel.accessAllowed ? 'block' : 'none';\n",
              "\n",
              "        async function convertToInteractive(key) {\n",
              "          const element = document.querySelector('#df-a04ee6bb-1112-4434-a51a-d95b673acf35');\n",
              "          const dataTable =\n",
              "            await google.colab.kernel.invokeFunction('convertToInteractive',\n",
              "                                                     [key], {});\n",
              "          if (!dataTable) return;\n",
              "\n",
              "          const docLinkHtml = 'Like what you see? Visit the ' +\n",
              "            '<a target=\"_blank\" href=https://colab.research.google.com/notebooks/data_table.ipynb>data table notebook</a>'\n",
              "            + ' to learn more about interactive tables.';\n",
              "          element.innerHTML = '';\n",
              "          dataTable['output_type'] = 'display_data';\n",
              "          await google.colab.output.renderOutput(dataTable, element);\n",
              "          const docLink = document.createElement('div');\n",
              "          docLink.innerHTML = docLinkHtml;\n",
              "          element.appendChild(docLink);\n",
              "        }\n",
              "      </script>\n",
              "    </div>\n",
              "  </div>\n",
              "  "
            ]
          },
          "metadata": {},
          "execution_count": 10
        }
      ]
    },
    {
      "cell_type": "markdown",
      "source": [
        "Para limpiar el dataframe, me quedo con la columna que me interesa, y cambio el nombre de la columna."
      ],
      "metadata": {
        "id": "qSbztfrXbHxv"
      }
    },
    {
      "cell_type": "code",
      "source": [
        "df_una_revision = df_una_revision[['id']]\n",
        "df_una_revision = df_una_revision.rename(columns= {'id':'cantidad'})\n",
        "df_una_revision"
      ],
      "metadata": {
        "colab": {
          "base_uri": "https://localhost:8080/",
          "height": 143
        },
        "id": "4yQfTYN8bNgB",
        "outputId": "ce2b26e9-bb07-4db1-f780-d91b3af5a2ba"
      },
      "execution_count": null,
      "outputs": [
        {
          "output_type": "execute_result",
          "data": {
            "text/plain": [
              "            cantidad\n",
              "1_revision          \n",
              "False        2648946\n",
              "True         1483218"
            ],
            "text/html": [
              "\n",
              "  <div id=\"df-e46626cd-3ac3-4597-917a-8087f9a6f1f3\">\n",
              "    <div class=\"colab-df-container\">\n",
              "      <div>\n",
              "<style scoped>\n",
              "    .dataframe tbody tr th:only-of-type {\n",
              "        vertical-align: middle;\n",
              "    }\n",
              "\n",
              "    .dataframe tbody tr th {\n",
              "        vertical-align: top;\n",
              "    }\n",
              "\n",
              "    .dataframe thead th {\n",
              "        text-align: right;\n",
              "    }\n",
              "</style>\n",
              "<table border=\"1\" class=\"dataframe\">\n",
              "  <thead>\n",
              "    <tr style=\"text-align: right;\">\n",
              "      <th></th>\n",
              "      <th>cantidad</th>\n",
              "    </tr>\n",
              "    <tr>\n",
              "      <th>1_revision</th>\n",
              "      <th></th>\n",
              "    </tr>\n",
              "  </thead>\n",
              "  <tbody>\n",
              "    <tr>\n",
              "      <th>False</th>\n",
              "      <td>2648946</td>\n",
              "    </tr>\n",
              "    <tr>\n",
              "      <th>True</th>\n",
              "      <td>1483218</td>\n",
              "    </tr>\n",
              "  </tbody>\n",
              "</table>\n",
              "</div>\n",
              "      <button class=\"colab-df-convert\" onclick=\"convertToInteractive('df-e46626cd-3ac3-4597-917a-8087f9a6f1f3')\"\n",
              "              title=\"Convert this dataframe to an interactive table.\"\n",
              "              style=\"display:none;\">\n",
              "        \n",
              "  <svg xmlns=\"http://www.w3.org/2000/svg\" height=\"24px\"viewBox=\"0 0 24 24\"\n",
              "       width=\"24px\">\n",
              "    <path d=\"M0 0h24v24H0V0z\" fill=\"none\"/>\n",
              "    <path d=\"M18.56 5.44l.94 2.06.94-2.06 2.06-.94-2.06-.94-.94-2.06-.94 2.06-2.06.94zm-11 1L8.5 8.5l.94-2.06 2.06-.94-2.06-.94L8.5 2.5l-.94 2.06-2.06.94zm10 10l.94 2.06.94-2.06 2.06-.94-2.06-.94-.94-2.06-.94 2.06-2.06.94z\"/><path d=\"M17.41 7.96l-1.37-1.37c-.4-.4-.92-.59-1.43-.59-.52 0-1.04.2-1.43.59L10.3 9.45l-7.72 7.72c-.78.78-.78 2.05 0 2.83L4 21.41c.39.39.9.59 1.41.59.51 0 1.02-.2 1.41-.59l7.78-7.78 2.81-2.81c.8-.78.8-2.07 0-2.86zM5.41 20L4 18.59l7.72-7.72 1.47 1.35L5.41 20z\"/>\n",
              "  </svg>\n",
              "      </button>\n",
              "      \n",
              "  <style>\n",
              "    .colab-df-container {\n",
              "      display:flex;\n",
              "      flex-wrap:wrap;\n",
              "      gap: 12px;\n",
              "    }\n",
              "\n",
              "    .colab-df-convert {\n",
              "      background-color: #E8F0FE;\n",
              "      border: none;\n",
              "      border-radius: 50%;\n",
              "      cursor: pointer;\n",
              "      display: none;\n",
              "      fill: #1967D2;\n",
              "      height: 32px;\n",
              "      padding: 0 0 0 0;\n",
              "      width: 32px;\n",
              "    }\n",
              "\n",
              "    .colab-df-convert:hover {\n",
              "      background-color: #E2EBFA;\n",
              "      box-shadow: 0px 1px 2px rgba(60, 64, 67, 0.3), 0px 1px 3px 1px rgba(60, 64, 67, 0.15);\n",
              "      fill: #174EA6;\n",
              "    }\n",
              "\n",
              "    [theme=dark] .colab-df-convert {\n",
              "      background-color: #3B4455;\n",
              "      fill: #D2E3FC;\n",
              "    }\n",
              "\n",
              "    [theme=dark] .colab-df-convert:hover {\n",
              "      background-color: #434B5C;\n",
              "      box-shadow: 0px 1px 3px 1px rgba(0, 0, 0, 0.15);\n",
              "      filter: drop-shadow(0px 1px 2px rgba(0, 0, 0, 0.3));\n",
              "      fill: #FFFFFF;\n",
              "    }\n",
              "  </style>\n",
              "\n",
              "      <script>\n",
              "        const buttonEl =\n",
              "          document.querySelector('#df-e46626cd-3ac3-4597-917a-8087f9a6f1f3 button.colab-df-convert');\n",
              "        buttonEl.style.display =\n",
              "          google.colab.kernel.accessAllowed ? 'block' : 'none';\n",
              "\n",
              "        async function convertToInteractive(key) {\n",
              "          const element = document.querySelector('#df-e46626cd-3ac3-4597-917a-8087f9a6f1f3');\n",
              "          const dataTable =\n",
              "            await google.colab.kernel.invokeFunction('convertToInteractive',\n",
              "                                                     [key], {});\n",
              "          if (!dataTable) return;\n",
              "\n",
              "          const docLinkHtml = 'Like what you see? Visit the ' +\n",
              "            '<a target=\"_blank\" href=https://colab.research.google.com/notebooks/data_table.ipynb>data table notebook</a>'\n",
              "            + ' to learn more about interactive tables.';\n",
              "          element.innerHTML = '';\n",
              "          dataTable['output_type'] = 'display_data';\n",
              "          await google.colab.output.renderOutput(dataTable, element);\n",
              "          const docLink = document.createElement('div');\n",
              "          docLink.innerHTML = docLinkHtml;\n",
              "          element.appendChild(docLink);\n",
              "        }\n",
              "      </script>\n",
              "    </div>\n",
              "  </div>\n",
              "  "
            ]
          },
          "metadata": {},
          "execution_count": 11
        }
      ]
    },
    {
      "cell_type": "markdown",
      "source": [
        "Calculo el porcentaje"
      ],
      "metadata": {
        "id": "gD2WYnKHbrl6"
      }
    },
    {
      "cell_type": "code",
      "source": [
        "df_una_revision['porcentual'] = df_una_revision['cantidad'] / df_una_revision['cantidad'].sum()\n",
        "df_una_revision"
      ],
      "metadata": {
        "colab": {
          "base_uri": "https://localhost:8080/",
          "height": 143
        },
        "id": "uRoz98-IfWX1",
        "outputId": "ef380533-70ea-4bc3-a510-70fda140b00b"
      },
      "execution_count": null,
      "outputs": [
        {
          "output_type": "execute_result",
          "data": {
            "text/plain": [
              "            cantidad  porcentual\n",
              "1_revision                      \n",
              "False        2648946    0.641055\n",
              "True         1483218    0.358945"
            ],
            "text/html": [
              "\n",
              "  <div id=\"df-624cfc9a-cb07-463d-acf8-b4b71f2b52cd\">\n",
              "    <div class=\"colab-df-container\">\n",
              "      <div>\n",
              "<style scoped>\n",
              "    .dataframe tbody tr th:only-of-type {\n",
              "        vertical-align: middle;\n",
              "    }\n",
              "\n",
              "    .dataframe tbody tr th {\n",
              "        vertical-align: top;\n",
              "    }\n",
              "\n",
              "    .dataframe thead th {\n",
              "        text-align: right;\n",
              "    }\n",
              "</style>\n",
              "<table border=\"1\" class=\"dataframe\">\n",
              "  <thead>\n",
              "    <tr style=\"text-align: right;\">\n",
              "      <th></th>\n",
              "      <th>cantidad</th>\n",
              "      <th>porcentual</th>\n",
              "    </tr>\n",
              "    <tr>\n",
              "      <th>1_revision</th>\n",
              "      <th></th>\n",
              "      <th></th>\n",
              "    </tr>\n",
              "  </thead>\n",
              "  <tbody>\n",
              "    <tr>\n",
              "      <th>False</th>\n",
              "      <td>2648946</td>\n",
              "      <td>0.641055</td>\n",
              "    </tr>\n",
              "    <tr>\n",
              "      <th>True</th>\n",
              "      <td>1483218</td>\n",
              "      <td>0.358945</td>\n",
              "    </tr>\n",
              "  </tbody>\n",
              "</table>\n",
              "</div>\n",
              "      <button class=\"colab-df-convert\" onclick=\"convertToInteractive('df-624cfc9a-cb07-463d-acf8-b4b71f2b52cd')\"\n",
              "              title=\"Convert this dataframe to an interactive table.\"\n",
              "              style=\"display:none;\">\n",
              "        \n",
              "  <svg xmlns=\"http://www.w3.org/2000/svg\" height=\"24px\"viewBox=\"0 0 24 24\"\n",
              "       width=\"24px\">\n",
              "    <path d=\"M0 0h24v24H0V0z\" fill=\"none\"/>\n",
              "    <path d=\"M18.56 5.44l.94 2.06.94-2.06 2.06-.94-2.06-.94-.94-2.06-.94 2.06-2.06.94zm-11 1L8.5 8.5l.94-2.06 2.06-.94-2.06-.94L8.5 2.5l-.94 2.06-2.06.94zm10 10l.94 2.06.94-2.06 2.06-.94-2.06-.94-.94-2.06-.94 2.06-2.06.94z\"/><path d=\"M17.41 7.96l-1.37-1.37c-.4-.4-.92-.59-1.43-.59-.52 0-1.04.2-1.43.59L10.3 9.45l-7.72 7.72c-.78.78-.78 2.05 0 2.83L4 21.41c.39.39.9.59 1.41.59.51 0 1.02-.2 1.41-.59l7.78-7.78 2.81-2.81c.8-.78.8-2.07 0-2.86zM5.41 20L4 18.59l7.72-7.72 1.47 1.35L5.41 20z\"/>\n",
              "  </svg>\n",
              "      </button>\n",
              "      \n",
              "  <style>\n",
              "    .colab-df-container {\n",
              "      display:flex;\n",
              "      flex-wrap:wrap;\n",
              "      gap: 12px;\n",
              "    }\n",
              "\n",
              "    .colab-df-convert {\n",
              "      background-color: #E8F0FE;\n",
              "      border: none;\n",
              "      border-radius: 50%;\n",
              "      cursor: pointer;\n",
              "      display: none;\n",
              "      fill: #1967D2;\n",
              "      height: 32px;\n",
              "      padding: 0 0 0 0;\n",
              "      width: 32px;\n",
              "    }\n",
              "\n",
              "    .colab-df-convert:hover {\n",
              "      background-color: #E2EBFA;\n",
              "      box-shadow: 0px 1px 2px rgba(60, 64, 67, 0.3), 0px 1px 3px 1px rgba(60, 64, 67, 0.15);\n",
              "      fill: #174EA6;\n",
              "    }\n",
              "\n",
              "    [theme=dark] .colab-df-convert {\n",
              "      background-color: #3B4455;\n",
              "      fill: #D2E3FC;\n",
              "    }\n",
              "\n",
              "    [theme=dark] .colab-df-convert:hover {\n",
              "      background-color: #434B5C;\n",
              "      box-shadow: 0px 1px 3px 1px rgba(0, 0, 0, 0.15);\n",
              "      filter: drop-shadow(0px 1px 2px rgba(0, 0, 0, 0.3));\n",
              "      fill: #FFFFFF;\n",
              "    }\n",
              "  </style>\n",
              "\n",
              "      <script>\n",
              "        const buttonEl =\n",
              "          document.querySelector('#df-624cfc9a-cb07-463d-acf8-b4b71f2b52cd button.colab-df-convert');\n",
              "        buttonEl.style.display =\n",
              "          google.colab.kernel.accessAllowed ? 'block' : 'none';\n",
              "\n",
              "        async function convertToInteractive(key) {\n",
              "          const element = document.querySelector('#df-624cfc9a-cb07-463d-acf8-b4b71f2b52cd');\n",
              "          const dataTable =\n",
              "            await google.colab.kernel.invokeFunction('convertToInteractive',\n",
              "                                                     [key], {});\n",
              "          if (!dataTable) return;\n",
              "\n",
              "          const docLinkHtml = 'Like what you see? Visit the ' +\n",
              "            '<a target=\"_blank\" href=https://colab.research.google.com/notebooks/data_table.ipynb>data table notebook</a>'\n",
              "            + ' to learn more about interactive tables.';\n",
              "          element.innerHTML = '';\n",
              "          dataTable['output_type'] = 'display_data';\n",
              "          await google.colab.output.renderOutput(dataTable, element);\n",
              "          const docLink = document.createElement('div');\n",
              "          docLink.innerHTML = docLinkHtml;\n",
              "          element.appendChild(docLink);\n",
              "        }\n",
              "      </script>\n",
              "    </div>\n",
              "  </div>\n",
              "  "
            ]
          },
          "metadata": {},
          "execution_count": 12
        }
      ]
    },
    {
      "cell_type": "markdown",
      "source": [
        "Finalmente puedo ver, que el porcentaje de páginas con una revisión es del 35,89% aproximadamente, mientras que las que no tienen una sola revisión es del 64% aproximadamente."
      ],
      "metadata": {
        "id": "Ffnd11Vxb3HH"
      }
    }
  ]
}